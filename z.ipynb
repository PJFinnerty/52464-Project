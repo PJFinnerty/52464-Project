{
 "cells": [
  {
   "cell_type": "code",
   "execution_count": null,
   "metadata": {},
   "outputs": [],
   "source": [
    "temp_df3 = pd.DataFrame({\"Influence\": [\"Moderate\", \"Moderate\", \"Moderate\", \"Moderate\",\"Moderate\",\n",
    "                       \"Moderate\", \"Moderate\", \"Moderate\", \"Moderate\",\"Moderate\",\n",
    "                       \"Moderate\", \"Moderate\",\n",
    "                       \"Significant\", \"Significant\", \"Significant\", \"Significant\", \"Significant\", \n",
    "                       \"Significant\", \"Significant\", \n",
    "                       \"Strong\", \"Strong\", \n",
    "                       \n",
    "                    \"Moderate\", \"Moderate\", \"Moderate\", \"Moderate\", \"Significant\", \"Significant\", \"Significant\", \n",
    "                    \"Significant\", \"Significant\", \"Significant\", \"Significant\", \"Significant\", \"Significant\", \n",
    "                    \"Significant\", \"Significant\", \"Strong\", \"Strong\", \"Strong\", \"Strong\", \"Strong\", \"Strong\", \n",
    "                       \n",
    "                    \"Moderate\", \"Moderate\", \"Moderate\", \"Moderate\", \"Significant\", \"Significant\", \"Significant\", \n",
    "                    \"Significant\", \"Significant\", \"Significant\", \"Significant\", \"Significant\", \"Significant\", \n",
    "                    \"Significant\", \"Significant\", \"Strong\", \"Strong\", \"Strong\", \"Strong\", \"Strong\", \"Strong\"] } ) "
   ]
  },
  {
   "cell_type": "code",
   "execution_count": null,
   "metadata": {},
   "outputs": [],
   "source": []
  }
 ],
 "metadata": {
  "kernelspec": {
   "display_name": "Python 3",
   "language": "python",
   "name": "python3"
  },
  "language_info": {
   "codemirror_mode": {
    "name": "ipython",
    "version": 3
   },
   "file_extension": ".py",
   "mimetype": "text/x-python",
   "name": "python",
   "nbconvert_exporter": "python",
   "pygments_lexer": "ipython3",
   "version": "3.8.3"
  }
 },
 "nbformat": 4,
 "nbformat_minor": 4
}
