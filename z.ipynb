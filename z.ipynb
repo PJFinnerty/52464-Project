{
 "cells": [
  {
   "cell_type": "code",
   "execution_count": 1,
   "metadata": {},
   "outputs": [],
   "source": [
    "import numpy as np\n",
    "import pandas as pd\n",
    "import matplotlib.pyplot as plt\n",
    "from matplotlib.pyplot import hist\n",
    "import seaborn as sns\n",
    "# Set seed of the generator\n",
    "rng = np.random.default_rng(0)"
   ]
  },
  {
   "cell_type": "code",
   "execution_count": 2,
   "metadata": {},
   "outputs": [
    {
     "data": {
      "text/html": [
       "<div>\n",
       "<style scoped>\n",
       "    .dataframe tbody tr th:only-of-type {\n",
       "        vertical-align: middle;\n",
       "    }\n",
       "\n",
       "    .dataframe tbody tr th {\n",
       "        vertical-align: top;\n",
       "    }\n",
       "\n",
       "    .dataframe thead th {\n",
       "        text-align: right;\n",
       "    }\n",
       "</style>\n",
       "<table border=\"1\" class=\"dataframe\">\n",
       "  <thead>\n",
       "    <tr style=\"text-align: right;\">\n",
       "      <th></th>\n",
       "      <th>Entity</th>\n",
       "      <th>Code</th>\n",
       "      <th>Year</th>\n",
       "      <th>Smoking prevalence, total (ages 15+)</th>\n",
       "    </tr>\n",
       "  </thead>\n",
       "  <tbody>\n",
       "    <tr>\n",
       "      <th>658</th>\n",
       "      <td>India</td>\n",
       "      <td>IND</td>\n",
       "      <td>2010</td>\n",
       "      <td>14.3</td>\n",
       "    </tr>\n",
       "    <tr>\n",
       "      <th>659</th>\n",
       "      <td>India</td>\n",
       "      <td>IND</td>\n",
       "      <td>2011</td>\n",
       "      <td>13.7</td>\n",
       "    </tr>\n",
       "    <tr>\n",
       "      <th>660</th>\n",
       "      <td>India</td>\n",
       "      <td>IND</td>\n",
       "      <td>2012</td>\n",
       "      <td>13.3</td>\n",
       "    </tr>\n",
       "    <tr>\n",
       "      <th>661</th>\n",
       "      <td>India</td>\n",
       "      <td>IND</td>\n",
       "      <td>2013</td>\n",
       "      <td>12.8</td>\n",
       "    </tr>\n",
       "    <tr>\n",
       "      <th>662</th>\n",
       "      <td>India</td>\n",
       "      <td>IND</td>\n",
       "      <td>2014</td>\n",
       "      <td>12.3</td>\n",
       "    </tr>\n",
       "    <tr>\n",
       "      <th>663</th>\n",
       "      <td>India</td>\n",
       "      <td>IND</td>\n",
       "      <td>2015</td>\n",
       "      <td>11.9</td>\n",
       "    </tr>\n",
       "    <tr>\n",
       "      <th>664</th>\n",
       "      <td>India</td>\n",
       "      <td>IND</td>\n",
       "      <td>2016</td>\n",
       "      <td>11.5</td>\n",
       "    </tr>\n",
       "  </tbody>\n",
       "</table>\n",
       "</div>"
      ],
      "text/plain": [
       "    Entity Code  Year  Smoking prevalence, total (ages 15+)\n",
       "658  India  IND  2010                                  14.3\n",
       "659  India  IND  2011                                  13.7\n",
       "660  India  IND  2012                                  13.3\n",
       "661  India  IND  2013                                  12.8\n",
       "662  India  IND  2014                                  12.3\n",
       "663  India  IND  2015                                  11.9\n",
       "664  India  IND  2016                                  11.5"
      ]
     },
     "execution_count": 2,
     "metadata": {},
     "output_type": "execute_result"
    }
   ],
   "source": [
    "n = pd.read_csv(\"share-of-adults-who-smoke.csv\")\n",
    "n.iloc[658:665]"
   ]
  },
  {
   "cell_type": "code",
   "execution_count": 3,
   "metadata": {},
   "outputs": [
    {
     "name": "stdout",
     "output_type": "stream",
     "text": [
      "[43.         42.79591837 42.59183673 42.3877551  42.18367347 41.97959184\n",
      " 41.7755102  41.57142857 41.36734694 41.16326531 40.95918367 40.75510204\n",
      " 40.55102041 40.34693878 40.14285714 39.93877551 39.73469388 39.53061224\n",
      " 39.32653061 39.12244898 38.91836735 38.71428571 38.51020408 38.30612245\n",
      " 38.10204082 37.89795918 37.69387755 37.48979592 37.28571429 37.08163265\n",
      " 36.87755102 36.67346939 36.46938776 36.26530612 36.06122449 35.85714286\n",
      " 35.65306122 35.44897959 35.24489796 35.04081633 34.83673469 34.63265306\n",
      " 34.42857143 34.2244898  34.02040816 33.81632653 33.6122449  33.40816327\n",
      " 33.20408163 33.        ] [38.7        38.51632653 38.33265306 38.14897959 37.96530612 37.78163265\n",
      " 37.59795918 37.41428571 37.23061224 37.04693878 36.86326531 36.67959184\n",
      " 36.49591837 36.3122449  36.12857143 35.94489796 35.76122449 35.57755102\n",
      " 35.39387755 35.21020408 35.02653061 34.84285714 34.65918367 34.4755102\n",
      " 34.29183673 34.10816327 33.9244898  33.74081633 33.55714286 33.37346939\n",
      " 33.18979592 33.00612245 32.82244898 32.63877551 32.45510204 32.27142857\n",
      " 32.0877551  31.90408163 31.72040816 31.53673469 31.35306122 31.16938776\n",
      " 30.98571429 30.80204082 30.61836735 30.43469388 30.25102041 30.06734694\n",
      " 29.88367347 29.7       ]\n"
     ]
    }
   ],
   "source": [
    "\n",
    "f = np.linspace(43, 33, 50)\n",
    "f2 = f /3 * 2.7\n",
    "print(f, f2)"
   ]
  },
  {
   "cell_type": "code",
   "execution_count": 4,
   "metadata": {},
   "outputs": [
    {
     "data": {
      "text/plain": [
       "array([31, 15, 31, 35, 36, 33, 36, 26, 32, 31, 32, 32, 22, 29, 29, 39, 30,\n",
       "       30, 27, 24, 20, 34, 36, 26, 28, 24, 27, 20, 26, 27, 28, 29],\n",
       "      dtype=int64)"
      ]
     },
     "execution_count": 4,
     "metadata": {},
     "output_type": "execute_result"
    }
   ],
   "source": [
    "rng.poisson(29, 32)"
   ]
  },
  {
   "cell_type": "code",
   "execution_count": 5,
   "metadata": {},
   "outputs": [],
   "source": [
    "rng = np.random.default_rng(0)\n",
    "\n"
   ]
  },
  {
   "cell_type": "code",
   "execution_count": 6,
   "metadata": {},
   "outputs": [
    {
     "data": {
      "text/plain": [
       "array([20, 13, 20, 26, 17, 21, 15, 15,  9, 13, 24, 21, 14, 20, 13, 22, 14,\n",
       "       21, 23, 21], dtype=int64)"
      ]
     },
     "execution_count": 6,
     "metadata": {},
     "output_type": "execute_result"
    }
   ],
   "source": [
    "rng = np.random.default_rng(0)\n",
    "rng.poisson(29, 50)\n",
    "\n",
    "rng.poisson(16, 20)"
   ]
  },
  {
   "cell_type": "markdown",
   "metadata": {},
   "source": [
    "## Low-Income Countries Dataset"
   ]
  },
  {
   "cell_type": "markdown",
   "metadata": {},
   "source": [
    "### Countries and Years Variables"
   ]
  },
  {
   "cell_type": "code",
   "execution_count": 7,
   "metadata": {},
   "outputs": [],
   "source": [
    "# list containing 61 strings of countrys (beginning with just 3)\n",
    "temp_df1 = pd.DataFrame({\"Countries\": [\"India\", \"India\", \"India\", \"India\", \"India\", \"India\", \"India\", \"India\", \"India\", \"India\", \n",
    "            \"India\", \"India\", \"India\", \"India\", \"India\", \"India\", \"India\", \"India\", \"India\", \"India\", \n",
    "            \"India\",\n",
    "            \"India\", \"India\", \"India\", \"India\", \"India\", \"India\", \"India\", \"India\", \"India\", \"India\", \n",
    "            \"India\", \"India\", \"India\", \"India\", \"India\", \"India\", \"India\", \"India\", \"India\", \"India\", \n",
    "            \"India\",\n",
    "            \"India\", \"India\", \"India\", \"India\", \"India\", \"India\", \"India\", \"India\", \"India\", \"India\", \n",
    "            \"India\", \"India\", \"India\", \"India\", \"India\", \"India\", \"India\", \"India\", \"India\", \"India\", \n",
    "            \"India\", \"India\", \"India\", \"India\", \"India\", \"India\", \"India\", \"India\",\n",
    "                                       \n",
    "                                       \n",
    "\"Indonesia\", \"Indonesia\", \"Indonesia\", \"Indonesia\", \"Indonesia\", \"Indonesia\", \"Indonesia\", \n",
    "\"Indonesia\",\"Indonesia\",\"Indonesia\",\n",
    "\"Indonesia\", \"Indonesia\", \"Indonesia\", \"Indonesia\", \"Indonesia\", \"Indonesia\", \"Indonesia\", \n",
    "\"Indonesia\",\"Indonesia\",\"Indonesia\", \"Indonesia\",\n",
    "\"Indonesia\", \"Indonesia\", \"Indonesia\", \"Indonesia\", \"Indonesia\", \"Indonesia\", \"Indonesia\", \n",
    "\"Indonesia\",\"Indonesia\",\"Indonesia\",\n",
    "\"Indonesia\", \"Indonesia\", \"Indonesia\", \"Indonesia\", \"Indonesia\", \"Indonesia\", \"Indonesia\", \n",
    "\"Indonesia\",\"Indonesia\",\"Indonesia\", \"Indonesia\",\n",
    "\"Indonesia\", \"Indonesia\", \"Indonesia\", \"Indonesia\", \"Indonesia\", \"Indonesia\", \"Indonesia\", \n",
    "          \"Indonesia\",\"Indonesia\",\"Indonesia\",\n",
    "          \"Indonesia\", \"Indonesia\", \"Indonesia\", \"Indonesia\", \"Indonesia\", \"Indonesia\", \"Indonesia\", \n",
    "          \"Indonesia\",\"Indonesia\",\"Indonesia\", \"Indonesia\",\n",
    "          \"Indonesia\", \"Indonesia\", \"Indonesia\", \n",
    "          \"Indonesia\",\"Indonesia\",\"Indonesia\", \"Indonesia\",\n",
    "                                       \n",
    "                                       \n",
    "          ],\n",
    "                    \n",
    "           \"Years\": [2000, 2001, 2002, 2003, 2004, 2005, 2006, 2007, 2008, 2009,\n",
    "         2010, 2011, 2012, 2013, 2014, 2015, 2016, 2017, 2018, 2019, 2020,\n",
    "         2000, 2001, 2002, 2003, 2004, 2005, 2006, 2007, 2008, 2009,\n",
    "         2010, 2011, 2012, 2013, 2014, 2015, 2016, 2017, 2018, 2019, 2020,\n",
    "         2000, 2001, 2002, 2003, 2004, 2005, 2006, 2007, 2008, 2009,\n",
    "         2010, 2011, 2012, 2013, 2014, 2015, 2016, 2017, 2018, 2019, 2020] })"
   ]
  },
  {
   "cell_type": "markdown",
   "metadata": {},
   "source": [
    "### Prevelance Variable"
   ]
  },
  {
   "cell_type": "markdown",
   "metadata": {},
   "source": [
    "##### India"
   ]
  },
  {
   "cell_type": "code",
   "execution_count": 54,
   "metadata": {},
   "outputs": [],
   "source": [
    "rng = np.random.default_rng(0)\n",
    "\n",
    "# Generate random data for share of adults that smoke (15 years or older) \n",
    "\n",
    "# 1950 - 1999: % of poulation that smoked remained pretty steady\n",
    "# Use np.poisson to create  to create\n",
    "prevalence_india_1 = rng.poisson(34, 50)\n",
    "\n",
    "# 2000 - 2019: Consumption increased\n",
    "prevalence_india_2 = rng.poisson(21, 20)\n",
    "\n",
    "# Round to 1 decimal\n",
    "R_prevalence_india_1 = prevalence_india_1.round(1)\n",
    "R_prevalence_india_2 = prevalence_india_2.round(1)\n",
    "\n",
    "# Transform Arrays into DataFrames\n",
    "DF_prevalence_india_1 = pd.DataFrame(R_prevalence_india_1)\n",
    "DF_prevalence_india_2 = pd.DataFrame(R_prevalence_india_2)"
   ]
  },
  {
   "cell_type": "markdown",
   "metadata": {},
   "source": [
    "##### Indonesia"
   ]
  },
  {
   "cell_type": "code",
   "execution_count": 55,
   "metadata": {},
   "outputs": [],
   "source": [
    "rng = np.random.default_rng(0)\n",
    "\n",
    "# Generate random data for share of adults that smoke (15 years or older) \n",
    "\n",
    "# 1950 - 1999: % of poulation that smoked remained pretty steady\n",
    "# Use np.poisson to create  to create\n",
    "prevalence_indo_1 = rng.poisson(19, 50)\n",
    "\n",
    "# 2000 - 2019: % of population increased\n",
    "prevalence_indo_2 = rng.poisson(36, 20)\n",
    "\n",
    "# Round to 1 decimal\n",
    "R_prevalence_indo_1 = prevalence_indo_1.round(1)\n",
    "R_prevalence_indo_2 = prevalence_indo_2.round(1)\n",
    "\n",
    "# Transform Arrays into DataFrames\n",
    "DF_prevalence_indo_1 = pd.DataFrame(R_prevalence_indo_1)\n",
    "DF_prevalence_indo_2 = pd.DataFrame(R_prevalence_indo_2)"
   ]
  },
  {
   "cell_type": "markdown",
   "metadata": {},
   "source": [
    "##### Austria"
   ]
  },
  {
   "cell_type": "code",
   "execution_count": 56,
   "metadata": {},
   "outputs": [],
   "source": [
    "rng = np.random.default_rng(0)\n",
    "\n",
    "# Generate random data for share of adults that smoke (15 years or older) \n",
    "\n",
    "# 1950 - 1999: % of poulation that smoked remained pretty steady\n",
    "# Use np.poisson to create  to create\n",
    "prevalence_aust_1 = rng.poisson(45, 50)\n",
    "\n",
    "# 2000 - 2019: % of population decreased\n",
    "prevalence_aust_2 = rng.poisson(17, 20)\n",
    "\n",
    "# Round to 1 decimal\n",
    "R_prevalence_aust_1 = prevalence_aust_1.round(1)\n",
    "R_prevalence_2 = prevalence_aust_2.round(1)\n",
    "\n",
    "# Round to 1 decimal\n",
    "R_prevalence_aust_1 = prevalence_aust_1.round(1)\n",
    "R_prevalence_aust_2 = prevalence_aust_2.round(1)\n",
    "\n",
    "# Transform Arrays into DataFrames\n",
    "DF_prevalence_aust_1 = pd.DataFrame(R_prevalence_aust_1)\n",
    "DF_prevalence_aust_2 = pd.DataFrame(R_prevalence_aust_2)\n",
    "\n",
    "frames_1 = [DF_prevalence_india_1, DF_prevalence_india_2, DF_prevalence_indo_1, DF_prevalence_indo_2,\n",
    "               DF_prevalence_aust_1, DF_prevalence_aust_2]\n",
    "\n",
    "prevalence = pd.concat(frames_1)\n",
    "prevalence.columns = [\"Prevalence(%)\"]"
   ]
  },
  {
   "cell_type": "markdown",
   "metadata": {},
   "source": [
    "#### Consumption Variable\n",
    "\n",
    "##### India"
   ]
  },
  {
   "cell_type": "code",
   "execution_count": 57,
   "metadata": {},
   "outputs": [],
   "source": [
    "rng = np.random.default_rng(0)\n",
    "\n",
    "# Generate random data for number of cigarettes consumed per person per year(15 years or older) \n",
    "\n",
    "# 1950 - 1999: Consumption of cigs per person per year remained pretty steady\n",
    "# Use np.poisson to create  to create\n",
    "percapita_india_1 = rng.poisson(1200, 50)\n",
    "\n",
    "# 2000 - 2019: Consumption increased\n",
    "percapita_india_2 = rng.poisson(1300, 20)\n",
    "\n",
    "# Round to 1 decimal\n",
    "R_percapita_india_1 = percapita_india_1.round(1)\n",
    "R_percapita_india_2 = percapita_india_2.round(1)\n",
    "\n",
    "# Transform Arrays into DataFrames\n",
    "DF_percapita_india_1 = pd.DataFrame(R_percapita_india_1)\n",
    "DF_percapita_india_2 = pd.DataFrame(R_percapita_india_2)"
   ]
  },
  {
   "cell_type": "markdown",
   "metadata": {},
   "source": [
    "##### Indonesia"
   ]
  },
  {
   "cell_type": "code",
   "execution_count": 58,
   "metadata": {},
   "outputs": [],
   "source": [
    "rng = np.random.default_rng(0)\n",
    "\n",
    "# Generate random data for number of cigarettes consumed per person per year(15 years or older) \n",
    "\n",
    "# 1950 - 1999: Consumption of cigs remained pretty steady\n",
    "# Use np.poisson to create  to create\n",
    "percapita_indo_1 = rng.poisson(1200, 50)\n",
    "\n",
    "# 2000 - 2019: Consumption increased\n",
    "percapita_indo_2 = rng.poisson(2900, 20)\n",
    "\n",
    "# Round to 1 decimal\n",
    "R_percapita_indo_1 = percapita_indo_1.round(1)\n",
    "R_percapita_indo_2 = percapita_indo_2.round(1)\n",
    "\n",
    "# Transform Arrays into DataFrames\n",
    "DF_percapita_indo_1 = pd.DataFrame(R_percapita_indo_1)\n",
    "DF_percapita_indo_2 = pd.DataFrame(R_percapita_indo_2)"
   ]
  },
  {
   "cell_type": "markdown",
   "metadata": {},
   "source": [
    "##### Austria"
   ]
  },
  {
   "cell_type": "code",
   "execution_count": 59,
   "metadata": {},
   "outputs": [],
   "source": [
    "rng = np.random.default_rng(0)\n",
    "\n",
    "# Generate random data for number of cigarettes consumed per year(15 years or older)\n",
    "\n",
    "# 1950 - 1999: Consumption of cigs remained pretty steady\n",
    "# Use np.poisson to create  to create\n",
    "percapita_aust_1 = rng.poisson(2721, 50)\n",
    "\n",
    "# 2000 - 2019: Consumption increased\n",
    "percapita_aust_2 = rng.poisson(1300, 20)\n",
    "\n",
    "# Round to 1 decimal\n",
    "R_percapita_aust_1 = percapita_aust_1.round(1)\n",
    "R_percapita_aust_2 = percapita_aust_2.round(1)\n",
    "\n",
    "# Round to 1 decimal\n",
    "R_percapita_aust_1 = percapita_aust_1.round(1)\n",
    "R_percapita_aust_2 = percapita_aust_2.round(1)\n",
    "\n",
    "# Transform Arrays into DataFrames\n",
    "DF_percapita_aust_1 = pd.DataFrame(R_percapita_aust_1)\n",
    "DF_percapita_aust_2 = pd.DataFrame(R_percapita_aust_2)\n",
    "\n",
    "frames_1 = [DF_percapita_india_1, DF_percapita_india_2, DF_percapita_indo_1, DF_percapita_indo_2,\n",
    "               DF_percapita_aust_1, DF_percapita_aust_2]\n",
    "\n",
    "prevalence = pd.concat(frames_1)\n",
    "prevalence.columns = [\"Prevalence(%)\"]"
   ]
  },
  {
   "cell_type": "code",
   "execution_count": null,
   "metadata": {},
   "outputs": [],
   "source": []
  },
  {
   "cell_type": "code",
   "execution_count": null,
   "metadata": {},
   "outputs": [],
   "source": []
  },
  {
   "cell_type": "code",
   "execution_count": null,
   "metadata": {},
   "outputs": [],
   "source": []
  },
  {
   "cell_type": "code",
   "execution_count": null,
   "metadata": {},
   "outputs": [],
   "source": []
  },
  {
   "cell_type": "code",
   "execution_count": null,
   "metadata": {},
   "outputs": [],
   "source": []
  },
  {
   "cell_type": "code",
   "execution_count": null,
   "metadata": {},
   "outputs": [],
   "source": []
  },
  {
   "cell_type": "code",
   "execution_count": null,
   "metadata": {},
   "outputs": [],
   "source": []
  },
  {
   "cell_type": "markdown",
   "metadata": {},
   "source": [
    "### Consumption (Per Capita) Variable"
   ]
  },
  {
   "cell_type": "markdown",
   "metadata": {},
   "source": [
    "##### India"
   ]
  },
  {
   "cell_type": "code",
   "execution_count": 29,
   "metadata": {},
   "outputs": [],
   "source": [
    "rng = np.random.default_rng(0)\n",
    "\n",
    "# Generate random data for number of cigarettes consumed per person (15 years or older) \n",
    "\n",
    "# 1950 - 1999: Consumption of cigs remained pretty steady\n",
    "# Use np.poisson to create  to create\n",
    "percapita_india_1 = rng.poisson(34, 50)\n",
    "\n",
    "# 2000 - 2019: Consumption increased\n",
    "percapita_india_2 = rng.poisson(21, 20)\n",
    "\n",
    "# Round to 1 decimal\n",
    "R_percapita_india_1 = percapita_india_1.round(1)\n",
    "R_percapita_india_2 = percapita_india_2.round(1)\n",
    "\n",
    "# Transform Arrays into DataFrames\n",
    "DF_percapita_india_1 = pd.DataFrame(R_percapita_india_1)\n",
    "DF_percapita_india_2 = pd.DataFrame(R_percapita_india_2)"
   ]
  },
  {
   "cell_type": "markdown",
   "metadata": {},
   "source": [
    "##### Indonesia"
   ]
  },
  {
   "cell_type": "code",
   "execution_count": 30,
   "metadata": {},
   "outputs": [],
   "source": [
    "rng = np.random.default_rng(0)\n",
    "\n",
    "# Generate random data for number of cigarettes consumed per person (15 years or older) \n",
    "\n",
    "# 1950 - 1999: Consumption of cigs remained pretty steady\n",
    "# Use np.poisson to create  to create\n",
    "percapita_indo_1 = rng.poisson(19, 50)\n",
    "\n",
    "# 2000 - 2019: Consumption increased\n",
    "percapita_indo_2 = rng.poisson(36, 20)\n",
    "\n",
    "# Round to 1 decimal\n",
    "R_percapita_indo_1 = percapita_indo_1.round(1)\n",
    "R_percapita_indo_2 = percapita_indo_2.round(1)\n",
    "\n",
    "# Transform Arrays into DataFrames\n",
    "DF_percapita_indo_1 = pd.DataFrame(R_percapita_indo_1)\n",
    "DF_percapita_indo_2 = pd.DataFrame(R_percapita_indo_2)"
   ]
  },
  {
   "cell_type": "markdown",
   "metadata": {},
   "source": [
    "##### Austria"
   ]
  },
  {
   "cell_type": "code",
   "execution_count": 53,
   "metadata": {},
   "outputs": [],
   "source": [
    "rng = np.random.default_rng(0)\n",
    "\n",
    "# Generate random data for number of cigarettes consumed per person (15 years or older) \n",
    "\n",
    "# 1950 - 1999: Consumption of cigs remained pretty steady\n",
    "# Use np.poisson to create  to create\n",
    "percapita_aust_1 = rng.poisson(45, 50)\n",
    "\n",
    "# 2000 - 2019: Consumption increased\n",
    "percapita_aust_2 = rng.poisson(17, 20)\n",
    "\n",
    "# Round to 1 decimal\n",
    "R_percapita_aust_1 = percapita_aust_1.round(1)\n",
    "R_percapita_aust_2 = percapita_aust_2.round(1)\n",
    "\n",
    "# Round to 1 decimal\n",
    "R_percapita_aust_1 = percapita_aust_1.round(1)\n",
    "R_percapita_aust_2 = percapita_aust_2.round(1)\n",
    "\n",
    "# Transform Arrays into DataFrames\n",
    "DF_percapita_aust_1 = pd.DataFrame(R_percapita_aust_1)\n",
    "DF_percapita_aust_2 = pd.DataFrame(R_percapita_aust_2)\n",
    "\n",
    "frames_1 = [DF_percapita_india_1, DF_percapita_india_2, DF_percapita_indo_1, DF_percapita_indo_2,\n",
    "               DF_percapita_aust_1, DF_percapita_aust_2]\n",
    "\n",
    "Consumption = pd.concat(frames_1)\n",
    "Consumption.columns = [\"Consumption(Yearly)\"]"
   ]
  },
  {
   "cell_type": "markdown",
   "metadata": {},
   "source": [
    "### Government Control Rating (0.0 - 6.0)"
   ]
  },
  {
   "cell_type": "markdown",
   "metadata": {},
   "source": [
    "##### India"
   ]
  },
  {
   "cell_type": "code",
   "execution_count": 29,
   "metadata": {},
   "outputs": [],
   "source": [
    "rng = np.random.default_rng(0)\n",
    "\n",
    "# Generate random data for number of cigarettes consumed per person (15 years or older) \n",
    "\n",
    "# 1950 - 1999: Consumption of cigs remained pretty steady\n",
    "# Use np.poisson to create  to create\n",
    "rating_india_1 = rng.poisson(34, 50)\n",
    "\n",
    "# 2000 - 2019: Consumption increased\n",
    "rating_india_2 = rng.poisson(21, 20)\n",
    "\n",
    "# Round to 1 decimal\n",
    "R_percapita_india_1 = percapita_india_1.round(1)\n",
    "R_percapita_india_2 = percapita_india_2.round(1)\n",
    "\n",
    "# Transform Arrays into DataFrames\n",
    "DF_percapita_india_1 = pd.DataFrame(R_percapita_india_1)\n",
    "DF_percapita_india_2 = pd.DataFrame(R_percapita_india_2)"
   ]
  },
  {
   "cell_type": "markdown",
   "metadata": {},
   "source": [
    "##### Indonesia"
   ]
  },
  {
   "cell_type": "code",
   "execution_count": 30,
   "metadata": {},
   "outputs": [],
   "source": [
    "rng = np.random.default_rng(0)\n",
    "\n",
    "# Generate random data for number of cigarettes consumed per person (15 years or older) \n",
    "\n",
    "# 1950 - 1999: Consumption of cigs remained pretty steady\n",
    "# Use np.poisson to create  to create\n",
    "percapita_indo_1 = rng.poisson(19, 50)\n",
    "\n",
    "# 2000 - 2019: Consumption increased\n",
    "percapita_indo_2 = rng.poisson(36, 20)\n",
    "\n",
    "# Round to 1 decimal\n",
    "R_percapita_indo_1 = percapita_indo_1.round(1)\n",
    "R_percapita_indo_2 = percapita_indo_2.round(1)\n",
    "\n",
    "# Transform Arrays into DataFrames\n",
    "DF_percapita_indo_1 = pd.DataFrame(R_percapita_indo_1)\n",
    "DF_percapita_indo_2 = pd.DataFrame(R_percapita_indo_2)"
   ]
  },
  {
   "cell_type": "markdown",
   "metadata": {},
   "source": [
    "##### Austria"
   ]
  },
  {
   "cell_type": "code",
   "execution_count": 52,
   "metadata": {},
   "outputs": [],
   "source": [
    "rng = np.random.default_rng(0)\n",
    "\n",
    "# Generate random data for number of cigarettes consumed per person (15 years or older) \n",
    "\n",
    "# 1950 - 1999: Consumption of cigs remained pretty steady\n",
    "# Use np.poisson to create  to create\n",
    "percapita_aust_1 = rng.poisson(45, 50)\n",
    "\n",
    "# 2000 - 2019: Consumption increased\n",
    "percapita_aust_2 = rng.poisson(17, 20)\n",
    "\n",
    "# Round to 1 decimal\n",
    "R_percapita_aust_1 = percapita_aust_1.round(1)\n",
    "R_percapita_aust_2 = percapita_aust_2.round(1)\n",
    "\n",
    "# Round to 1 decimal\n",
    "R_percapita_aust_1 = percapita_aust_1.round(1)\n",
    "R_percapita_aust_2 = percapita_aust_2.round(1)\n",
    "\n",
    "# Transform Arrays into DataFrames\n",
    "DF_percapita_aust_1 = pd.DataFrame(R_percapita_aust_1)\n",
    "DF_percapita_aust_2 = pd.DataFrame(R_percapita_aust_2)\n",
    "\n",
    "frames_1 = [DF_percapita_india_1, DF_percapita_india_2, DF_percapita_indo_1, DF_percapita_indo_2,\n",
    "               DF_percapita_aust_1, DF_percapita_aust_2]\n",
    "\n",
    "prevalence = pd.concat(frames_1)\n",
    "prevalence.columns = [\"Prevalence(%)\"]"
   ]
  },
  {
   "cell_type": "code",
   "execution_count": null,
   "metadata": {},
   "outputs": [],
   "source": [
    "##### India\n",
    "\n",
    "rng = np.random.default_rng(0)\n",
    "\n",
    "# Generate random data for number of cigarettes consumed per person (15 years or older) \n",
    "\n",
    "# 1950 - 1999: Consumption of cigs remained pretty steady\n",
    "# Use np.poisson to create  to create\n",
    "percapita_india_1 = rng.poisson(34, 50)\n",
    "\n",
    "# 2000 - 2019: Consumption increased\n",
    "percapita_india_2 = rng.poisson(21, 20)\n",
    "\n",
    "# Round to 1 decimal\n",
    "R_percapita_india_1 = percapita_india_1.round(1)\n",
    "R_percapita_india_2 = percapita_india_2.round(1)\n",
    "\n",
    "# Transform Arrays into DataFrames\n",
    "DF_percapita_india_1 = pd.DataFrame(R_percapita_india_1)\n",
    "DF_percapita_india_2 = pd.DataFrame(R_percapita_india_2)\n",
    "\n",
    "##### Indonesia\n",
    "\n",
    "rng = np.random.default_rng(0)\n",
    "\n",
    "# Generate random data for number of cigarettes consumed per person (15 years or older) \n",
    "\n",
    "# 1950 - 1999: Consumption of cigs remained pretty steady\n",
    "# Use np.poisson to create  to create\n",
    "percapita_indo_1 = rng.poisson(19, 50)\n",
    "\n",
    "# 2000 - 2019: Consumption increased\n",
    "percapita_indo_2 = rng.poisson(36, 20)\n",
    "\n",
    "# Round to 1 decimal\n",
    "R_percapita_indo_1 = percapita_indo_1.round(1)\n",
    "R_percapita_indo_2 = percapita_indo_2.round(1)\n",
    "\n",
    "# Transform Arrays into DataFrames\n",
    "DF_percapita_indo_1 = pd.DataFrame(R_percapita_indo_1)\n",
    "DF_percapita_indo_2 = pd.DataFrame(R_percapita_indo_2)\n",
    "\n",
    "##### Austria\n",
    "\n",
    "rng = np.random.default_rng(0)\n",
    "\n",
    "# Generate random data for number of cigarettes consumed per person (15 years or older) \n",
    "\n",
    "# 1950 - 1999: Consumption of cigs remained pretty steady\n",
    "# Use np.poisson to create  to create\n",
    "percapita_aust_1 = rng.poisson(45, 50)\n",
    "\n",
    "# 2000 - 2019: Consumption increased\n",
    "percapita_aust_2 = rng.poisson(17, 20)\n",
    "\n",
    "# Round to 1 decimal\n",
    "R_percapita_aust_1 = percapita_aust_1.round(1)\n",
    "R_percapita_aust_2 = percapita_aust_2.round(1)\n",
    "\n",
    "# Round to 1 decimal\n",
    "R_percapita_aust_1 = percapita_aust_1.round(1)\n",
    "R_percapita_aust_2 = percapita_aust_2.round(1)\n",
    "\n",
    "# Transform Arrays into DataFrames\n",
    "DF_percapita_aust_1 = pd.DataFrame(R_percapita_aust_1)\n",
    "DF_percapita_aust_2 = pd.DataFrame(R_percapita_aust_2)\n",
    "\n",
    "frames_1 = [DF_percapita_india_1, DF_percapita_india_2, DF_percapita_indo_1, DF_percapita_indo_2,\n",
    "               DF_percapita_aust_1, DF_percapita_aust_2]\n",
    "\n",
    "prevalence = pd.concat(frames_1)\n",
    "prevalence.columns = [\"Prevalence(%)\"]"
   ]
  },
  {
   "cell_type": "markdown",
   "metadata": {},
   "source": [
    "### Use the ravel() Method to Combine Columns for 1. Prevelance, 2. Consumption and 3. Control"
   ]
  },
  {
   "cell_type": "code",
   "execution_count": null,
   "metadata": {},
   "outputs": [],
   "source": [
    "# Create dataframe of numeric variables using ravel() method\n",
    "temp_df2 = pd.DataFrame({'Prevelance (%)': prevelance1.ravel(), \n",
    "                     'Consumption': per_capita1.ravel(), 'Control Rating': control_rate1.ravel(),  })"
   ]
  },
  {
   "cell_type": "markdown",
   "metadata": {},
   "source": [
    "### Degree of Influence of Tobacco Lobbying\n",
    "\n",
    "The list of categories for the Influence variable has not yet bee"
   ]
  },
  {
   "cell_type": "code",
   "execution_count": null,
   "metadata": {},
   "outputs": [],
   "source": [
    "# Create a third dataframe for the Influence variable leaving the square brackets empty - categories will\n",
    "# populated based off Control Rating variable values\n",
    "temp_df3 = pd.DataFrame({\"Influence\": [\"Moderate\", \"Moderate\", \"Moderate\", \"Moderate\",\"Moderate\",\n",
    "                       \"Moderate\", \"Moderate\", \"Moderate\", \"Moderate\",\"Moderate\",\n",
    "                       \"Moderate\", \"Moderate\",\n",
    "                       \"Significant\", \"Significant\", \"Significant\", \"Significant\", \"Significant\", \n",
    "                       \"Significant\", \"Significant\", \n",
    "                       \"Strong\", \"Strong\", \n",
    "                       \n",
    "                    \"Moderate\", \"Moderate\", \"Moderate\", \"Moderate\", \"Significant\", \"Significant\", \"Significant\", \n",
    "                    \"Significant\", \"Significant\", \"Significant\", \"Significant\", \"Significant\", \"Significant\", \n",
    "                    \"Significant\", \"Significant\", \"Strong\", \"Strong\", \"Strong\", \"Strong\", \"Strong\", \"Strong\", \n",
    "                       \n",
    "                    \"Moderate\", \"Moderate\", \"Moderate\", \"Moderate\", \"Significant\", \"Significant\", \"Significant\", \n",
    "                    \"Significant\", \"Significant\", \"Significant\", \"Significant\", \"Significant\", \"Significant\", \n",
    "                    \"Significant\", \"Significant\", \"Strong\", \"Strong\", \"Strong\", \"Strong\", \"Strong\", \"Strong\"] } ) "
   ]
  },
  {
   "cell_type": "markdown",
   "metadata": {},
   "source": [
    "### Concatenate Dataframes into Dataset for Low-Income Countries"
   ]
  },
  {
   "cell_type": "code",
   "execution_count": null,
   "metadata": {},
   "outputs": [],
   "source": [
    "# Concatenate the dataframes along the x-axis, setting the join parameter to 'inner'\n",
    "dataset1 = pd.concat([temp_df1, temp_df2, temp_df3], axis=1, join='inner')\n",
    "dataset1.head(5)"
   ]
  },
  {
   "cell_type": "markdown",
   "metadata": {},
   "source": [
    "#### Altering the 'Influence' Variable\n",
    "\n",
    "In the first 10 lines of data printed above, the Influence variable has not yet been made dependent on the Control Rating variable. \n",
    "\n",
    "In order to do this we use Pandas .loc() method and enter the parameters of 'Control Rating' that the 'Influence' column should interpret. \n",
    "\n",
    "For e.g. if control rate is greater than or equal to 1, but less than 2.5, the 'Influence' datapoint for that row should read \"Significant\". This indicates that countries with a Contrl Rating of 1.0-2.5 exhibit a significant level of influence from the tobacco industry."
   ]
  },
  {
   "cell_type": "code",
   "execution_count": null,
   "metadata": {},
   "outputs": [],
   "source": [
    "# Use the loc() on dataset1 to access the control rating read the value and interpret the value of Control Rating\n",
    "\n",
    "dataset1.loc[(dataset1[\"Control Rating\"] >= 0) & (dataset1[\"Control Rating\"] < 1), \"Influence\"] = \"Weak\"\n",
    "dataset1.loc[(dataset1[\"Control Rating\"] >= 1) & (dataset1[\"Control Rating\"] < 2.5), \"Influence\"] = \"Moderate\"\n",
    "dataset1.loc[(dataset1[\"Control Rating\"] >= 2.5) & (dataset1[\"Control Rating\"] < 4.0), \"Influence\"] = \"Significant\"\n",
    "dataset1.loc[(dataset1[\"Control Rating\"] >= 4.0) & (dataset1[\"Control Rating\"] < 5.0), \"Influence\"] = \"Strong\"\n",
    "dataset1.head(8)\n",
    "\n",
    "# Print the top 10 rows\n",
    "dataset1[['Control Rating', 'Influence']].head(10) "
   ]
  },
  {
   "cell_type": "markdown",
   "metadata": {},
   "source": [
    "Looking at the first 8 values for India, we can see that the Influence variable is determined based off the values from Control Rating."
   ]
  },
  {
   "cell_type": "code",
   "execution_count": null,
   "metadata": {},
   "outputs": [],
   "source": [
    "dataset1.head(5)"
   ]
  },
  {
   "cell_type": "markdown",
   "metadata": {},
   "source": [
    "#### Altering the 'Influence' Variable\n",
    "\n",
    "In the first 20 lines of data printed above, the Influence variable has not yet been made dependent on the Control Rating variable. \n",
    "\n",
    "In order to do this we use Pandas .loc() method and enter the parameters of 'Control Rating' that the 'Influence' column should interpret. \n",
    "\n",
    "For e.g. if control rate is greater than or equal to 1, but less than 2.5, the 'Influence' datapoint for that row should read \"Significant\". This indicates that countries with a Contrl Rating of 1.0-2.5 exhibit a significant level of influence from the tobacco industry."
   ]
  },
  {
   "cell_type": "code",
   "execution_count": null,
   "metadata": {},
   "outputs": [],
   "source": [
    "# Use the loc() on dataset1 to access the control rating read the value and interpret the value of \n",
    "#dataset1.loc[(dataset1[\"Control Rating\"] >= 0) & (dataset1[\"Control Rating\"] < 1), \"Influence\"] = \"Strong\"\n",
    "#dataset1.loc[(dataset1[\"Control Rating\"] >= 1) & (dataset1[\"Control Rating\"] < 2.5), \"Influence\"] = \"Significant\"\n",
    "#dataset1.loc[(dataset1[\"Control Rating\"] >= 2.5) & (dataset1[\"Control Rating\"] < 4.0), \"Influence\"] = \"Moderate\"\n",
    "#dataset1.loc[(dataset1[\"Control Rating\"] >= 4.0) & (dataset1[\"Control Rating\"] < 5.0), \"Influence\"] = \"Moderate\"\n",
    "#dataset1"
   ]
  },
  {
   "cell_type": "code",
   "execution_count": null,
   "metadata": {},
   "outputs": [],
   "source": []
  },
  {
   "cell_type": "markdown",
   "metadata": {},
   "source": [
    "## High Income Countries Dataset"
   ]
  },
  {
   "cell_type": "markdown",
   "metadata": {},
   "source": [
    "### Countries and Years Variables"
   ]
  },
  {
   "cell_type": "code",
   "execution_count": null,
   "metadata": {},
   "outputs": [],
   "source": [
    "# list containing 61 strings of countrys (beginning with just 3)\n",
    "temp_df4 = pd.DataFrame({\"Countries\": [\"Austria\",  \"Austria\",  \"Austria\",  \"Austria\",  \"Austria\",  \"Austria\",  \"Austria\",  \n",
    "\"Austria\",  \"Austria\", \"Austria\", \"Austria\",  \"Austria\",  \"Austria\",  \"Austria\",  \"Austria\",  \"Austria\",  \"Austria\",  \n",
    "\"Austria\",  \"Austria\", \"Austria\", \"Austria\",\n",
    "                                  \n",
    "\"France\", \"France\", \"France\", \"France\", \"France\", \"France\", \"France\", \"France\", \"France\", \"France\", \"France\", \"France\", \n",
    "\"France\", \"France\", \"France\", \"France\", \"France\", \"France\", \"France\", \"France\", \"France\", \n",
    "                    \n",
    "\"Sweden\", \"Sweden\", \"Sweden\", \"Sweden\", \"Sweden\", \"Sweden\", \"Sweden\", \"Sweden\", \"Sweden\", \"Sweden\", \"Sweden\", \"Sweden\", \n",
    "\"Sweden\", \"Sweden\", \"Sweden\", \"Sweden\", \"Sweden\", \"Sweden\", \"Sweden\", \"Sweden\", \"Sweden\"],\n",
    "                    \n",
    "        \n",
    "           \"Years\": [2000, 2001, 2002, 2003, 2004, 2005, 2006, 2007, 2008, 2009,\n",
    "         2010, 2011, 2012, 2013, 2014, 2015, 2016, 2017, 2018, 2019, 2020,\n",
    "         2000, 2001, 2002, 2003, 2004, 2005, 2006, 2007, 2008, 2009,\n",
    "         2010, 2011, 2012, 2013, 2014, 2015, 2016, 2017, 2018, 2019, 2020,\n",
    "         2000, 2001, 2002, 2003, 2004, 2005, 2006, 2007, 2008, 2009,\n",
    "         2010, 2011, 2012, 2013, 2014, 2015, 2016, 2017, 2018, 2019, 2020] })"
   ]
  },
  {
   "cell_type": "markdown",
   "metadata": {},
   "source": [
    "### Prevelance Variable"
   ]
  },
  {
   "cell_type": "code",
   "execution_count": null,
   "metadata": {},
   "outputs": [],
   "source": [
    "# Use np.uniform() to create a range of random 60 floats to represent the deaths per 100000\n",
    "perc2 = rng.uniform(low=5, high=38.5, size=(63,))\n",
    "# Round to 2 decimal places and assign new variable\n",
    "prevelance2 = perc2.round(1)"
   ]
  },
  {
   "cell_type": "markdown",
   "metadata": {},
   "source": [
    "### Consumption (Per Capita) Variable"
   ]
  },
  {
   "cell_type": "code",
   "execution_count": null,
   "metadata": {},
   "outputs": [],
   "source": [
    "# Generate 60 random integers in the range 500-200 to no. of cigarettes consumed per person (15 years or older)\n",
    "per_capita2 = rng.integers(low=100, high=2000, size=(63,))"
   ]
  },
  {
   "cell_type": "markdown",
   "metadata": {},
   "source": [
    "### Government Control Rating (0.0 - 5.0)"
   ]
  },
  {
   "cell_type": "code",
   "execution_count": null,
   "metadata": {},
   "outputs": [],
   "source": [
    "# Use np.uniform() to create a range of random 60 floats to represent the rating of restrictions against smoking companies\n",
    "rating2 = rng.uniform(low=3.5, high= 4.7, size=(63,) )\n",
    "# Round to 1 decimal place and assign new variable\n",
    "control_rate2 = rating2.round(1)"
   ]
  },
  {
   "cell_type": "markdown",
   "metadata": {},
   "source": [
    "### Use the ravel() Method to Combine Columns for 1. Prevelance, 2. Consumption and 3. Control"
   ]
  },
  {
   "cell_type": "code",
   "execution_count": null,
   "metadata": {},
   "outputs": [],
   "source": [
    "# Create dataframe of numeric variables using ravel() method\n",
    "temp_df5 = pd.DataFrame({'Control Rating': control_rate2.ravel(), 'Prevelance (%)': prevelance2.ravel(), \n",
    "                     'Consumption': per_capita2.ravel() })"
   ]
  },
  {
   "cell_type": "markdown",
   "metadata": {},
   "source": [
    "### Degree of Influence of Tobacco Lobbying"
   ]
  },
  {
   "cell_type": "code",
   "execution_count": null,
   "metadata": {},
   "outputs": [],
   "source": [
    "temp_df6 = pd.DataFrame({\"Influence\": [\"Moderate\", \"Moderate\", \"Moderate\", \"Moderate\",\"Moderate\",\n",
    "                       \"Moderate\", \"Moderate\", \"Moderate\", \"Moderate\",\"Moderate\",\n",
    "                       \"Moderate\", \"Moderate\",\n",
    "                       \"Significant\", \"Significant\", \"Significant\", \"Significant\", \"Significant\", \n",
    "                       \"Significant\", \"Significant\", \n",
    "                       \"Strong\", \"Strong\", \n",
    "                       \n",
    "                    \"Moderate\", \"Moderate\", \"Moderate\", \"Moderate\", \"Significant\", \"Significant\", \"Significant\", \n",
    "                    \"Significant\", \"Significant\", \"Significant\", \"Significant\", \"Significant\", \"Significant\", \n",
    "                    \"Significant\", \"Significant\", \"Strong\", \"Strong\", \"Strong\", \"Strong\", \"Strong\", \"Strong\", \n",
    "                       \n",
    "                    \"Moderate\", \"Moderate\", \"Moderate\", \"Moderate\", \"Significant\", \"Significant\", \"Significant\", \n",
    "                    \"Significant\", \"Significant\", \"Significant\", \"Significant\", \"Significant\", \"Significant\", \n",
    "                    \"Significant\", \"Significant\", \"Strong\", \"Strong\", \"Strong\", \"Strong\", \"Strong\", \"Strong\"] } ) "
   ]
  },
  {
   "cell_type": "code",
   "execution_count": null,
   "metadata": {},
   "outputs": [],
   "source": [
    "# Concatenate the dataframes along the x-axis\n",
    "dataset2 = pd.concat([temp_df4, temp_df6, temp_df5], axis=1, join='inner')\n",
    "dataset2"
   ]
  },
  {
   "cell_type": "code",
   "execution_count": null,
   "metadata": {},
   "outputs": [],
   "source": [
    "pd.set_option('display.max_rows', 200)\n",
    "\n",
    "frames = [dataset1, dataset2]\n",
    "\n",
    "v = pd.concat(frames)\n",
    "v"
   ]
  },
  {
   "cell_type": "code",
   "execution_count": null,
   "metadata": {},
   "outputs": [],
   "source": []
  },
  {
   "cell_type": "code",
   "execution_count": null,
   "metadata": {},
   "outputs": [],
   "source": [
    "# Create dataframe for list of strings (countrys) - Split the list to have the first element as a column and the rest as \n",
    "# data \n",
    "#temp_df7 = list(zip(*[iter(dataset1)]))\n",
    "temp_df8 = pd.DataFrame(dataset1[1:], columns=dataset2[1])\n",
    "\n",
    "# Create a variable listing both dataframes together\n",
    "#dataframes = [temp_df1, temp_df2]"
   ]
  },
  {
   "cell_type": "code",
   "execution_count": null,
   "metadata": {},
   "outputs": [],
   "source": []
  },
  {
   "cell_type": "code",
   "execution_count": null,
   "metadata": {},
   "outputs": [],
   "source": [
    "# Use np.uniform() to create a range of random 60 floats to represent the rating of restrictions against smoking companies\n",
    "rating2 = rng.uniform(low=0.01, high=4.99, size=(63,))\n",
    "# Round to 1 decimal place1 and assign new variable\n",
    "control_rate2 = rating2.round(1)\n",
    "print(control_rate)"
   ]
  },
  {
   "cell_type": "code",
   "execution_count": null,
   "metadata": {},
   "outputs": [],
   "source": [
    "x = rng.integers(low=2.5, high=4.8, size=(63,))\n",
    "y = a*x**(a-1.)\n"
   ]
  },
  {
   "cell_type": "code",
   "execution_count": null,
   "metadata": {},
   "outputs": [],
   "source": [
    "a = 5. # shape\n",
    "samples = 100\n",
    "s = np.random.power(6, 63)\n",
    "s"
   ]
  },
  {
   "cell_type": "code",
   "execution_count": null,
   "metadata": {},
   "outputs": [],
   "source": [
    "a = 63. # shape\n",
    "samples = (2.5, 4.4)\n",
    "s = rng.exponential(scale=0.6, size=63)\n",
    "s"
   ]
  },
  {
   "cell_type": "code",
   "execution_count": null,
   "metadata": {},
   "outputs": [],
   "source": []
  },
  {
   "cell_type": "code",
   "execution_count": null,
   "metadata": {},
   "outputs": [],
   "source": []
  },
  {
   "cell_type": "code",
   "execution_count": null,
   "metadata": {},
   "outputs": [],
   "source": []
  },
  {
   "cell_type": "code",
   "execution_count": null,
   "metadata": {},
   "outputs": [],
   "source": []
  },
  {
   "cell_type": "code",
   "execution_count": null,
   "metadata": {},
   "outputs": [],
   "source": []
  },
  {
   "cell_type": "code",
   "execution_count": null,
   "metadata": {},
   "outputs": [],
   "source": []
  },
  {
   "cell_type": "markdown",
   "metadata": {},
   "source": [
    "## High-Income Countries Dataset"
   ]
  },
  {
   "cell_type": "code",
   "execution_count": null,
   "metadata": {},
   "outputs": [],
   "source": [
    "\n",
    "\n",
    "#print(df3)\n",
    "\n",
    "# Use np.uniform() to create a range of random 60 floats to represent the deaths per 100000\n",
    "perc = rng.uniform(low=0.5, high=13.3, size=(63,))\n",
    "# Round to 2 decimal places and assign new variable\n",
    "prevelance = perc.round(1)\n",
    "\n",
    "\n",
    "\n",
    "# Generate 60 random integers in the range 45-405 to represent profits (in billions)\n",
    "profits = rng.integers(low=45, high=405, size=(63,))"
   ]
  },
  {
   "cell_type": "code",
   "execution_count": null,
   "metadata": {},
   "outputs": [],
   "source": [
    "rating1 = rng.uniform(low=0.5, high= 0.9, size=(63,) )\n",
    "rate1 = rating1.round(1)"
   ]
  },
  {
   "cell_type": "code",
   "execution_count": null,
   "metadata": {},
   "outputs": [],
   "source": [
    "rating2 = rng.uniform(low=1.5, high= 1.9, size=(63,) )\n",
    "rate2 = rating2.round(1)"
   ]
  },
  {
   "cell_type": "code",
   "execution_count": null,
   "metadata": {},
   "outputs": [],
   "source": [
    "x = rng.integers(low=2.5, high=4.8, size=(63,))\n",
    "y = a*x**(a-1.)\n"
   ]
  },
  {
   "cell_type": "code",
   "execution_count": null,
   "metadata": {},
   "outputs": [],
   "source": [
    "# Use np.uniform() to create a range of random 60 floats to represent the rating of restrictions against smoking companies\n",
    "rating = rng.uniform(low=0.01, high=4.99, size=(63,))\n",
    "# Round to 2 decimal places and assign new variable\n",
    "control_rate = rating.round(1)"
   ]
  },
  {
   "cell_type": "code",
   "execution_count": null,
   "metadata": {},
   "outputs": [],
   "source": [
    "a = 5. # shape\n",
    "samples = 100\n",
    "s = np.random.power(6, 63)\n",
    "s"
   ]
  },
  {
   "cell_type": "code",
   "execution_count": null,
   "metadata": {},
   "outputs": [],
   "source": [
    "a = 63. # shape\n",
    "samples = (2.5, 4.4)\n",
    "s = rng.exponential(scale=0.6, size=63)\n",
    "s"
   ]
  },
  {
   "cell_type": "code",
   "execution_count": null,
   "metadata": {},
   "outputs": [],
   "source": [
    "# Create dataframe of numeric variables using ravel() method\n",
    "df1 = pd.DataFrame({'Prevelance (%)': prevelance.ravel(), 'Control Rating': control_rate.ravel(),\n",
    "                     'Profits': profits.ravel() })\n",
    "\n",
    "# Create dataframe for list of strings (countrys) - Split the list to have the first element as a column and the rest as \n",
    "# data \n",
    "data = list(zip(*[iter(df3)]))\n",
    "df2 = pd.DataFrame(data[1:], columns=data[0])\n",
    "\n",
    "# Create a variable listing both dataframes together\n",
    "dataframes = [df3, df1]\n",
    "\n",
    "# Concatenate the dataframes along the x-axis\n",
    "result = pd.concat([df3, df1], axis=1, join='inner')\n",
    "print(result)"
   ]
  },
  {
   "cell_type": "code",
   "execution_count": null,
   "metadata": {},
   "outputs": [],
   "source": []
  },
  {
   "cell_type": "code",
   "execution_count": null,
   "metadata": {},
   "outputs": [],
   "source": []
  },
  {
   "cell_type": "code",
   "execution_count": null,
   "metadata": {},
   "outputs": [],
   "source": []
  },
  {
   "cell_type": "code",
   "execution_count": null,
   "metadata": {},
   "outputs": [],
   "source": [
    "temp_df3 = pd.DataFrame({\"Influence\": [\"Moderate\", \"Moderate\", \"Moderate\", \"Moderate\",\"Moderate\",\n",
    "                       \"Moderate\", \"Moderate\", \"Moderate\", \"Moderate\",\"Moderate\",\n",
    "                       \"Moderate\", \"Moderate\",\n",
    "                       \"Significant\", \"Significant\", \"Significant\", \"Significant\", \"Significant\", \n",
    "                       \"Significant\", \"Significant\", \n",
    "                       \"Strong\", \"Strong\", \n",
    "                       \n",
    "                    \"Moderate\", \"Moderate\", \"Moderate\", \"Moderate\", \"Significant\", \"Significant\", \"Significant\", \n",
    "                    \"Significant\", \"Significant\", \"Significant\", \"Significant\", \"Significant\", \"Significant\", \n",
    "                    \"Significant\", \"Significant\", \"Strong\", \"Strong\", \"Strong\", \"Strong\", \"Strong\", \"Strong\", \n",
    "                       \n",
    "                    \"Moderate\", \"Moderate\", \"Moderate\", \"Moderate\", \"Significant\", \"Significant\", \"Significant\", \n",
    "                    \"Significant\", \"Significant\", \"Significant\", \"Significant\", \"Significant\", \"Significant\", \n",
    "                    \"Significant\", \"Significant\", \"Strong\", \"Strong\", \"Strong\", \"Strong\", \"Strong\", \"Strong\"] } ) "
   ]
  },
  {
   "cell_type": "code",
   "execution_count": null,
   "metadata": {},
   "outputs": [],
   "source": []
  },
  {
   "cell_type": "code",
   "execution_count": null,
   "metadata": {},
   "outputs": [],
   "source": []
  },
  {
   "cell_type": "code",
   "execution_count": null,
   "metadata": {},
   "outputs": [],
   "source": []
  },
  {
   "cell_type": "code",
   "execution_count": null,
   "metadata": {},
   "outputs": [],
   "source": []
  },
  {
   "cell_type": "code",
   "execution_count": null,
   "metadata": {},
   "outputs": [],
   "source": []
  },
  {
   "cell_type": "code",
   "execution_count": null,
   "metadata": {},
   "outputs": [],
   "source": [
    "# list containing 61 strings of countrys (beginning with just 3)\n",
    "temp_df1 = pd.DataFrame({\"Countries\": [\"India\", \"India\", \"India\", \"India\", \"India\", \"India\", \"India\", \"India\", \"India\", \"India\", \n",
    "            \"India\", \"India\", \"India\", \"India\", \"India\", \"India\", \"India\", \"India\", \"India\", \"India\", \n",
    "            \"India\",\n",
    "          \"Indonesia\", \"Indonesia\", \"Indonesia\", \"Indonesia\", \"Indonesia\", \"Indonesia\", \"Indonesia\", \n",
    "          \"Indonesia\",\"Indonesia\",\"Indonesia\",\n",
    "          \"Indonesia\", \"Indonesia\", \"Indonesia\", \"Indonesia\", \"Indonesia\", \"Indonesia\", \"Indonesia\", \n",
    "          \"Indonesia\",\"Indonesia\",\"Indonesia\", \"Indonesia\",\n",
    "          \"Myanmar\", \"Myanmar\", \"Myanmar\", \"Myanmar\", \"Myanmar\", \"Myanmar\", \"Myanmar\", \"Myanmar\", \"Myanmar\", \"Myanmar\", \n",
    "            \"Myanmar\", \"Myanmar\", \"Myanmar\", \"Myanmar\", \"Myanmar\", \"Myanmar\", \"Myanmar\", \"Myanmar\", \"Myanmar\", \"Myanmar\", \n",
    "            \"Myanmar\"],\n",
    "                    \n",
    "           \"Years\": [2000, 2001, 2002, 2003, 2004, 2005, 2006, 2007, 2008, 2009,\n",
    "         2010, 2011, 2012, 2013, 2014, 2015, 2016, 2017, 2018, 2019, 2020,\n",
    "         2000, 2001, 2002, 2003, 2004, 2005, 2006, 2007, 2008, 2009,\n",
    "         2010, 2011, 2012, 2013, 2014, 2015, 2016, 2017, 2018, 2019, 2020,\n",
    "         2000, 2001, 2002, 2003, 2004, 2005, 2006, 2007, 2008, 2009,\n",
    "         2010, 2011, 2012, 2013, 2014, 2015, 2016, 2017, 2018, 2019, 2020] })"
   ]
  },
  {
   "cell_type": "markdown",
   "metadata": {},
   "source": [
    "### Prevelance Variable"
   ]
  },
  {
   "cell_type": "code",
   "execution_count": null,
   "metadata": {},
   "outputs": [],
   "source": [
    "# India\n",
    "\n",
    "# Use np.uniform() to create a range of random 60 floats to represent the deaths per 100000\n",
    "perc1 = np.linspace(21.5, 52.7, 63)\n",
    "# Round to 2 decimal places and assign new variable\n",
    "\n",
    "prevelance1 = pd.DataFrame(rng.poisson(23, 50) )\n",
    "# India\n",
    "dd\n"
   ]
  },
  {
   "cell_type": "markdown",
   "metadata": {},
   "source": [
    "### Consumption (Per Capita) Variable"
   ]
  },
  {
   "cell_type": "code",
   "execution_count": null,
   "metadata": {},
   "outputs": [],
   "source": [
    "# Generate 60 random integers in the range 500-200 to no. of cigarettes consumed per person (15 years or older)\n",
    "per_capita1 = rng.integers(low=500, high=2000, size=(63,))"
   ]
  },
  {
   "cell_type": "markdown",
   "metadata": {},
   "source": [
    "### Government Control Rating (0.0 - 6.0)"
   ]
  },
  {
   "cell_type": "code",
   "execution_count": null,
   "metadata": {},
   "outputs": [],
   "source": [
    "# Use np.uniform() to create a range of random 60 floats to represent the rating of restrictions against smoking companies\n",
    "rating1 = rng.uniform(low=0.5, high= 3.0, size=(63,) )\n",
    "# Round to 1 decimal place and assign new variable\n",
    "control_rate1 = rating1.round(1)"
   ]
  },
  {
   "cell_type": "markdown",
   "metadata": {},
   "source": [
    "### Use the ravel() Method to Combine Columns for 1. Prevelance, 2. Consumption and 3. Control"
   ]
  },
  {
   "cell_type": "code",
   "execution_count": null,
   "metadata": {},
   "outputs": [],
   "source": [
    "# Create dataframe of numeric variables using ravel() method\n",
    "temp_df2 = pd.DataFrame({'Prevelance (%)': prevelance.ravel(), \n",
    "                     'Consumption': per_capita1.ravel(), 'Control Rating': control_rate1.ravel(),  })"
   ]
  },
  {
   "cell_type": "markdown",
   "metadata": {},
   "source": [
    "### Degree of Influence of Tobacco Lobbying\n",
    "\n",
    "The list of categories for the Influence variable has not yet bee"
   ]
  },
  {
   "cell_type": "code",
   "execution_count": null,
   "metadata": {},
   "outputs": [],
   "source": [
    "# Create a third dataframe for the Influence variable leaving the square brackets empty - categories will\n",
    "# populated based off Control Rating variable values\n",
    "temp_df3 = pd.DataFrame({\"Influence\": [\"Moderate\", \"Moderate\", \"Moderate\", \"Moderate\",\"Moderate\",\n",
    "                       \"Moderate\", \"Moderate\", \"Moderate\", \"Moderate\",\"Moderate\",\n",
    "                       \"Moderate\", \"Moderate\",\n",
    "                       \"Significant\", \"Significant\", \"Significant\", \"Significant\", \"Significant\", \n",
    "                       \"Significant\", \"Significant\", \n",
    "                       \"Strong\", \"Strong\", \n",
    "                       \n",
    "                    \"Moderate\", \"Moderate\", \"Moderate\", \"Moderate\", \"Significant\", \"Significant\", \"Significant\", \n",
    "                    \"Significant\", \"Significant\", \"Significant\", \"Significant\", \"Significant\", \"Significant\", \n",
    "                    \"Significant\", \"Significant\", \"Strong\", \"Strong\", \"Strong\", \"Strong\", \"Strong\", \"Strong\", \n",
    "                       \n",
    "                    \"Moderate\", \"Moderate\", \"Moderate\", \"Moderate\", \"Significant\", \"Significant\", \"Significant\", \n",
    "                    \"Significant\", \"Significant\", \"Significant\", \"Significant\", \"Significant\", \"Significant\", \n",
    "                    \"Significant\", \"Significant\", \"Strong\", \"Strong\", \"Strong\", \"Strong\", \"Strong\", \"Strong\"] } ) "
   ]
  },
  {
   "cell_type": "markdown",
   "metadata": {},
   "source": [
    "### Concatenate Dataframes into Dataset for Low-Income Countries"
   ]
  },
  {
   "cell_type": "code",
   "execution_count": null,
   "metadata": {},
   "outputs": [],
   "source": [
    "# Concatenate the dataframes along the x-axis, setting the join parameter to 'inner'\n",
    "dataset1 = pd.concat([temp_df1, temp_df2, temp_df3], axis=1, join='inner')\n",
    "dataset1.head(5)"
   ]
  },
  {
   "cell_type": "markdown",
   "metadata": {},
   "source": [
    "#### Altering the 'Influence' Variable\n",
    "\n",
    "In the first 10 lines of data printed above, the Influence variable has not yet been made dependent on the Control Rating variable. \n",
    "\n",
    "In order to do this we use Pandas .loc() method and enter the parameters of 'Control Rating' that the 'Influence' column should interpret. \n",
    "\n",
    "For e.g. if control rate is greater than or equal to 1, but less than 2.5, the 'Influence' datapoint for that row should read \"Significant\". This indicates that countries with a Contrl Rating of 1.0-2.5 exhibit a significant level of influence from the tobacco industry."
   ]
  },
  {
   "cell_type": "code",
   "execution_count": null,
   "metadata": {},
   "outputs": [],
   "source": [
    "# Use the loc() on dataset1 to access the control rating read the value and interpret the value of Control Rating\n",
    "\n",
    "dataset1.loc[(dataset1[\"Control Rating\"] >= 0) & (dataset1[\"Control Rating\"] < 1), \"Influence\"] = \"Weak\"\n",
    "dataset1.loc[(dataset1[\"Control Rating\"] >= 1) & (dataset1[\"Control Rating\"] < 2.5), \"Influence\"] = \"Moderate\"\n",
    "dataset1.loc[(dataset1[\"Control Rating\"] >= 2.5) & (dataset1[\"Control Rating\"] < 4.0), \"Influence\"] = \"Significant\"\n",
    "dataset1.loc[(dataset1[\"Control Rating\"] >= 4.0) & (dataset1[\"Control Rating\"] < 5.0), \"Influence\"] = \"Strong\"\n",
    "dataset1.head(8)\n",
    "\n",
    "# Print the top 10 rows\n",
    "dataset1[['Control Rating', 'Influence']].head(10) "
   ]
  },
  {
   "cell_type": "markdown",
   "metadata": {},
   "source": [
    "Looking at the first 8 values for India, we can see that the Influence variable is determined based off the values from Control Rating."
   ]
  },
  {
   "cell_type": "code",
   "execution_count": null,
   "metadata": {},
   "outputs": [],
   "source": [
    "dataset1.head(5)"
   ]
  },
  {
   "cell_type": "markdown",
   "metadata": {},
   "source": [
    "#### Altering the 'Influence' Variable\n",
    "\n",
    "In the first 20 lines of data printed above, the Influence variable has not yet been made dependent on the Control Rating variable. \n",
    "\n",
    "In order to do this we use Pandas .loc() method and enter the parameters of 'Control Rating' that the 'Influence' column should interpret. \n",
    "\n",
    "For e.g. if control rate is greater than or equal to 1, but less than 2.5, the 'Influence' datapoint for that row should read \"Significant\". This indicates that countries with a Contrl Rating of 1.0-2.5 exhibit a significant level of influence from the tobacco industry."
   ]
  },
  {
   "cell_type": "code",
   "execution_count": null,
   "metadata": {},
   "outputs": [],
   "source": [
    "# Use the loc() on dataset1 to access the control rating read the value and interpret the value of \n",
    "#dataset1.loc[(dataset1[\"Control Rating\"] >= 0) & (dataset1[\"Control Rating\"] < 1), \"Influence\"] = \"Strong\"\n",
    "#dataset1.loc[(dataset1[\"Control Rating\"] >= 1) & (dataset1[\"Control Rating\"] < 2.5), \"Influence\"] = \"Significant\"\n",
    "#dataset1.loc[(dataset1[\"Control Rating\"] >= 2.5) & (dataset1[\"Control Rating\"] < 4.0), \"Influence\"] = \"Moderate\"\n",
    "#dataset1.loc[(dataset1[\"Control Rating\"] >= 4.0) & (dataset1[\"Control Rating\"] < 5.0), \"Influence\"] = \"Moderate\"\n",
    "#dataset1"
   ]
  },
  {
   "cell_type": "code",
   "execution_count": null,
   "metadata": {},
   "outputs": [],
   "source": []
  },
  {
   "cell_type": "markdown",
   "metadata": {},
   "source": [
    "## High Income Countries Dataset"
   ]
  },
  {
   "cell_type": "markdown",
   "metadata": {},
   "source": [
    "### Countries and Years Variables"
   ]
  },
  {
   "cell_type": "code",
   "execution_count": null,
   "metadata": {},
   "outputs": [],
   "source": [
    "# list containing 61 strings of countrys (beginning with just 3)\n",
    "temp_df4 = pd.DataFrame({\"Countries\": [\"Austria\",  \"Austria\",  \"Austria\",  \"Austria\",  \"Austria\",  \"Austria\",  \"Austria\",  \n",
    "\"Austria\",  \"Austria\", \"Austria\", \"Austria\",  \"Austria\",  \"Austria\",  \"Austria\",  \"Austria\",  \"Austria\",  \"Austria\",  \n",
    "\"Austria\",  \"Austria\", \"Austria\", \"Austria\",\n",
    "                                  \n",
    "\"France\", \"France\", \"France\", \"France\", \"France\", \"France\", \"France\", \"France\", \"France\", \"France\", \"France\", \"France\", \n",
    "\"France\", \"France\", \"France\", \"France\", \"France\", \"France\", \"France\", \"France\", \"France\", \n",
    "                    \n",
    "\"Sweden\", \"Sweden\", \"Sweden\", \"Sweden\", \"Sweden\", \"Sweden\", \"Sweden\", \"Sweden\", \"Sweden\", \"Sweden\", \"Sweden\", \"Sweden\", \n",
    "\"Sweden\", \"Sweden\", \"Sweden\", \"Sweden\", \"Sweden\", \"Sweden\", \"Sweden\", \"Sweden\", \"Sweden\"],\n",
    "                    \n",
    "        \n",
    "           \"Years\": [2000, 2001, 2002, 2003, 2004, 2005, 2006, 2007, 2008, 2009,\n",
    "         2010, 2011, 2012, 2013, 2014, 2015, 2016, 2017, 2018, 2019, 2020,\n",
    "         2000, 2001, 2002, 2003, 2004, 2005, 2006, 2007, 2008, 2009,\n",
    "         2010, 2011, 2012, 2013, 2014, 2015, 2016, 2017, 2018, 2019, 2020,\n",
    "         2000, 2001, 2002, 2003, 2004, 2005, 2006, 2007, 2008, 2009,\n",
    "         2010, 2011, 2012, 2013, 2014, 2015, 2016, 2017, 2018, 2019, 2020] })"
   ]
  },
  {
   "cell_type": "markdown",
   "metadata": {},
   "source": [
    "### Prevelance Variable"
   ]
  },
  {
   "cell_type": "code",
   "execution_count": null,
   "metadata": {},
   "outputs": [],
   "source": [
    "# Use np.uniform() to create a range of random 60 floats to represent the deaths per 100000\n",
    "perc2 = rng.uniform(low=5, high=38.5, size=(63,))\n",
    "# Round to 2 decimal places and assign new variable\n",
    "prevelance2 = perc2.round(1)"
   ]
  },
  {
   "cell_type": "markdown",
   "metadata": {},
   "source": [
    "### Consumption (Per Capita) Variable"
   ]
  },
  {
   "cell_type": "code",
   "execution_count": null,
   "metadata": {},
   "outputs": [],
   "source": [
    "# Generate 60 random integers in the range 500-200 to no. of cigarettes consumed per person (15 years or older)\n",
    "per_capita2 = rng.integers(low=100, high=2000, size=(63,))"
   ]
  },
  {
   "cell_type": "markdown",
   "metadata": {},
   "source": [
    "### Government Control Rating (0.0 - 5.0)"
   ]
  },
  {
   "cell_type": "code",
   "execution_count": null,
   "metadata": {},
   "outputs": [],
   "source": [
    "# Use np.uniform() to create a range of random 60 floats to represent the rating of restrictions against smoking companies\n",
    "rating2 = rng.uniform(low=3.5, high= 4.7, size=(63,) )\n",
    "# Round to 1 decimal place and assign new variable\n",
    "control_rate2 = rating2.round(1)"
   ]
  },
  {
   "cell_type": "markdown",
   "metadata": {},
   "source": [
    "### Use the ravel() Method to Combine Columns for 1. Prevelance, 2. Consumption and 3. Control"
   ]
  },
  {
   "cell_type": "code",
   "execution_count": null,
   "metadata": {},
   "outputs": [],
   "source": [
    "# Create dataframe of numeric variables using ravel() method\n",
    "temp_df5 = pd.DataFrame({'Control Rating': control_rate2.ravel(), 'Prevelance (%)': prevelance2.ravel(), \n",
    "                     'Consumption': per_capita2.ravel() })"
   ]
  },
  {
   "cell_type": "markdown",
   "metadata": {},
   "source": [
    "### Degree of Influence of Tobacco Lobbying"
   ]
  },
  {
   "cell_type": "code",
   "execution_count": null,
   "metadata": {},
   "outputs": [],
   "source": [
    "temp_df6 = pd.DataFrame({\"Influence\": [\"Moderate\", \"Moderate\", \"Moderate\", \"Moderate\",\"Moderate\",\n",
    "                       \"Moderate\", \"Moderate\", \"Moderate\", \"Moderate\",\"Moderate\",\n",
    "                       \"Moderate\", \"Moderate\",\n",
    "                       \"Significant\", \"Significant\", \"Significant\", \"Significant\", \"Significant\", \n",
    "                       \"Significant\", \"Significant\", \n",
    "                       \"Strong\", \"Strong\", \n",
    "                       \n",
    "                    \"Moderate\", \"Moderate\", \"Moderate\", \"Moderate\", \"Significant\", \"Significant\", \"Significant\", \n",
    "                    \"Significant\", \"Significant\", \"Significant\", \"Significant\", \"Significant\", \"Significant\", \n",
    "                    \"Significant\", \"Significant\", \"Strong\", \"Strong\", \"Strong\", \"Strong\", \"Strong\", \"Strong\", \n",
    "                       \n",
    "                    \"Moderate\", \"Moderate\", \"Moderate\", \"Moderate\", \"Significant\", \"Significant\", \"Significant\", \n",
    "                    \"Significant\", \"Significant\", \"Significant\", \"Significant\", \"Significant\", \"Significant\", \n",
    "                    \"Significant\", \"Significant\", \"Strong\", \"Strong\", \"Strong\", \"Strong\", \"Strong\", \"Strong\"] } ) "
   ]
  },
  {
   "cell_type": "code",
   "execution_count": null,
   "metadata": {},
   "outputs": [],
   "source": [
    "# Concatenate the dataframes along the x-axis\n",
    "dataset2 = pd.concat([temp_df4, temp_df6, temp_df5], axis=1, join='inner')\n",
    "dataset2"
   ]
  },
  {
   "cell_type": "code",
   "execution_count": null,
   "metadata": {},
   "outputs": [],
   "source": [
    "pd.set_option('display.max_rows', 200)\n",
    "\n",
    "frames = [dataset1, dataset2]\n",
    "\n",
    "v = pd.concat(frames)\n",
    "v"
   ]
  },
  {
   "cell_type": "code",
   "execution_count": null,
   "metadata": {},
   "outputs": [],
   "source": []
  },
  {
   "cell_type": "code",
   "execution_count": null,
   "metadata": {},
   "outputs": [],
   "source": [
    "# Create dataframe for list of strings (countrys) - Split the list to have the first element as a column and the rest as \n",
    "# data \n",
    "#temp_df7 = list(zip(*[iter(dataset1)]))\n",
    "temp_df8 = pd.DataFrame(dataset1[1:], columns=dataset2[1])\n",
    "\n",
    "# Create a variable listing both dataframes together\n",
    "#dataframes = [temp_df1, temp_df2]"
   ]
  },
  {
   "cell_type": "code",
   "execution_count": null,
   "metadata": {},
   "outputs": [],
   "source": []
  },
  {
   "cell_type": "code",
   "execution_count": null,
   "metadata": {},
   "outputs": [],
   "source": [
    "# Use np.uniform() to create a range of random 60 floats to represent the rating of restrictions against smoking companies\n",
    "rating2 = rng.uniform(low=0.01, high=4.99, size=(63,))\n",
    "# Round to 1 decimal place1 and assign new variable\n",
    "control_rate2 = rating2.round(1)\n",
    "print(control_rate)"
   ]
  },
  {
   "cell_type": "code",
   "execution_count": null,
   "metadata": {},
   "outputs": [],
   "source": [
    "x = rng.integers(low=2.5, high=4.8, size=(63,))\n",
    "y = a*x**(a-1.)\n"
   ]
  },
  {
   "cell_type": "code",
   "execution_count": null,
   "metadata": {},
   "outputs": [],
   "source": [
    "a = 5. # shape\n",
    "samples = 100\n",
    "s = np.random.power(6, 63)\n",
    "s"
   ]
  },
  {
   "cell_type": "code",
   "execution_count": null,
   "metadata": {},
   "outputs": [],
   "source": [
    "a = 63. # shape\n",
    "samples = (2.5, 4.4)\n",
    "s = rng.exponential(scale=0.6, size=63)\n",
    "s"
   ]
  },
  {
   "cell_type": "code",
   "execution_count": null,
   "metadata": {},
   "outputs": [],
   "source": []
  }
 ],
 "metadata": {
  "kernelspec": {
   "display_name": "Python 3",
   "language": "python",
   "name": "python3"
  },
  "language_info": {
   "codemirror_mode": {
    "name": "ipython",
    "version": 3
   },
   "file_extension": ".py",
   "mimetype": "text/x-python",
   "name": "python",
   "nbconvert_exporter": "python",
   "pygments_lexer": "ipython3",
   "version": "3.8.3"
  }
 },
 "nbformat": 4,
 "nbformat_minor": 4
}
