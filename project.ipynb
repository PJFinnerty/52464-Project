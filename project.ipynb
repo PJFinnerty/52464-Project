{
 "cells": [
  {
   "cell_type": "markdown",
   "metadata": {},
   "source": [
    "## Programming for Data Analysis - Project\n",
    "\n",
    "### Problem statement\n",
    "\n",
    "For this project you must create a data set by simulating a real-world phenomenon of\n",
    "your choosing. You may pick any phenomenon you wish – you might pick one that is\n",
    "of interest to you in your personal or professional life. \n",
    "\n",
    "Then, rather than collect data\n",
    "related to the phenomenon, you should model and synthesise such data using Python.\n",
    "\n",
    "\n",
    "We suggest you use the numpy.random package for this purpose.\n",
    "\n",
    "Specifically, in this project you should:\n",
    "\n",
    "* Choose a real-world phenomenon that can be measured and for which you could collect at least one-hundred data points across at least four different variables.\n",
    "\n",
    "* Investigate the types of variables involved, their likely distributions, and their relationships with each other.\n",
    "\n",
    "* Synthesise/simulate a data set as closely matching their properties as possible.\n",
    "\n",
    "* Detail your research and implement the simulation in a Jupyter notebook – the data set itself can simply be displayed in an output cell within the notebook.\n",
    "\n",
    "#### Note:\n",
    "this project is about simulation – you must synthesise a data set. Some\n",
    "students may already have some real-world data sets in their own files. It is okay to\n",
    "base your synthesised data set on these should you wish (please reference it if you do),\n",
    "but the main task in this project is to create a synthesised data set. The next section\n",
    "gives an example project idea.\n",
    "\n",
    "### Example project idea\n",
    "\n",
    "As a lecturer I might pick the real-world phenomenon of the performance of students\n",
    "studying a ten-credit module. After some research, I decide that the most interesting\n",
    "variable related to this is the mark a student receives in the module - this is going to be\n",
    "one of my variables (grade).\n",
    "\n",
    "Upon investigation of the problem, I find that the number of hours on average a\n",
    "student studies per week (hours), the number of times they log onto Moodle in the\n",
    "first three weeks of term (logins), and their previous level of degree qualification (qual)\n",
    "are closely related to grade. \n",
    "\n",
    "The hours and grade variables will be non-negative real number with two decimal places, logins will be a non-zero integer and qual will be a categorical variable with four possible values: none, bachelors, masters, or phd.\n",
    "\n",
    "After some online research, I find that full-time post-graduate students study on average four hours per week with a standard deviation of a quarter of an hour and that a normal distribution is an acceptable model of such a variable. Likewise, I investigate the other four variables, and I also look at the relationships between the variables. \n",
    "\n",
    "I devise an algorithm (or method) to generate such a data set, simulating values of the\n",
    "four variables for two-hundred students. I detail all this work in my notebook, and then\n",
    "I add some code in to generate a data set with those properties."
   ]
  },
  {
   "cell_type": "markdown",
   "metadata": {},
   "source": [
    "#### Reference: Malawi Evidence of Tobacco Companies Affecting Restrictions: https://www.ncbi.nlm.nih.gov/pmc/articles/PMC2741530/\n",
    "\n",
    "\n",
    "#### Reference: Philip Morris smoking advertising in India (Reuters): https://www.reuters.com/investigates/special-report/pmi-india/\n",
    "\n",
    "#### Reference: Number of tobacco smokers worldwide from 2000 to 2025, by country income: https://www.statista.com/statistics/937428/tobacco-smoking-numbers-globally-country-income/#__sid=js4\n",
    "\n",
    "#### Reference: ASH Fact sheet: Tobacco and the Developing World (ASH): https://ash.org.uk/wp-content/uploads/2019/07/ASH-Factsheet_Developing-World_v3.pdf\n",
    "\n",
    "#### Reference (The Conversation): https://theconversation.com/big-tobacco-goes-after-the-young-in-developing-markets-in-a-case-of-history-repeated-82043\n",
    "\n",
    "#### Reference: Cigarette consumption per year, 1970-2015: https://www.bmj.com/content/bmj/365/bmj.l2231.full.pdf\n",
    "\n",
    "#### Reference: tobacco industry Indonesia: https://www.statista.com/topics/5728/tobacco-industry-in-indonesia/\n",
    "\n",
    "#### Reference: https://tobacco.publichealth.gsu.edu/resources/data/\n",
    "\n",
    "#### Reference: Improving the implementation of tobacco control policies in low-and middle-income countries: a proposed framework: https://gh.bmj.com/content/4/6/e002078\n",
    "\n",
    "#### Reference: cigarette labels: https://www.ncbi.nlm.nih.gov/pmc/articles/PMC4276461/\n",
    "\n",
    "#### WHO report 2019, tobacoo controls:https://www.who.int/publications/i/item/WHO-NMH-PND-2019.5   file:///C:/Users/HP/Downloads/WHO-NMH-PND-2019.5-eng.pdf\n",
    "\n",
    "#### links for tobacco use: https://tobacco.publichealth.gsu.edu/resources/data/\n",
    "\n",
    "#### Who info on India tobacco controls: https://www.who.int/tobacco/about/partners/bloomberg/ind/en/#:~:text=Several%20provisions%20of%20the%20law,is%20also%20restricted%20in%20India.\n",
    "\n",
    "#### Percentage of deaths from smoking as a share overall: Global Burden of Disease Collaborative Network. Global Burden of Disease Study 2017 (GBD 2017) Results. Seattle, United States: Institute for Health Metrics and Evaluation (IHME), 2018.: http://ghdx.healthdata.org/gbd-results-tool\n",
    "\n",
    "#### India smoking controls and effect on death rates: https://www.researchgate.net/publication/333906455_Recent_trends_of_tobacco_use_in_India\n",
    "\n",
    "https://www.ncbi.nlm.nih.gov/pmc/articles/PMC4154048/\n",
    "\n",
    "#### Swedend smoking and snus: https://www.ncbi.nlm.nih.gov/pmc/articles/PMC4154048/\n",
    "\n",
    "#### solution for categorical variables dependency: https://stackoverflow.com/questions/32633977/how-to-create-categorical-variable-based-on-a-numerical-variable"
   ]
  },
  {
   "cell_type": "code",
   "execution_count": 1,
   "metadata": {},
   "outputs": [],
   "source": [
    "import pandas as pd"
   ]
  },
  {
   "cell_type": "markdown",
   "metadata": {},
   "source": [
    "### The Variables\n",
    "\n",
    "1. **Country:** Categrical variable \n",
    "\n",
    "> I will chose 5 Developed countries where campaigns have been introduced to combat deaths from smoking. I will also      choose 5 developing nations where little or no effort has been made to combat smoking.\n",
    "\n",
    "\n",
    "2. **Years:** Categorical variable\n",
    "\n",
    "> I will be choosing a 30 year period, from 1980 to 2000, with one observation for each country per year. \n",
    "\n",
    "\n",
    "3. **Percentage of Adults Who Smoke:** Numerical variable \n",
    "\n",
    "> This datapoint should represent the percentage of adults that smoke. It will closely resemble the distribution of real data on this subject I discovered on *Our World in Data's* smoking series. \n",
    "\n",
    "\n",
    "4. **Rating of Government anti-smoking campaigns:** Numerical variable\n",
    "\n",
    "> This figure should be a rating that reflects standardised rating variables commonly utilised to represent subjects that contain many variable elements. This hypothetical variable, will be a floating point number between 1 and 5 and will be said to be a rating of the various efforts of government in restricting tobacco sale into a single figure. This variable will be the most difficult to simulate in a realistic way. I will achieve this by basing it on a similar rating used in a dataset on the number of deaths associated with opiod use per country.\n",
    "\n",
    "5. **Influence of Tobacco Lobbying:** Categorical variable\n",
    " \n",
    "> This variable should represent the influence that Big Tobacco and lobbying groups have in the countries and an overall reflection of their efforts to curtail government imposed tobacco control. The variable will contain 4 different categories stored as the following strings: \"Weak\", \"Moderate\", \"Significant\", \"Strong\". \n",
    "\n"
   ]
  },
  {
   "cell_type": "code",
   "execution_count": null,
   "metadata": {},
   "outputs": [],
   "source": []
  },
  {
   "cell_type": "markdown",
   "metadata": {},
   "source": [
    "## Basis for Variables"
   ]
  },
  {
   "cell_type": "markdown",
   "metadata": {},
   "source": [
    "### Variable 1: Country\n",
    "\n",
    "#### Comparison of Trends in Smoking Consumption\n",
    "\n",
    "The countries included in this simulation will fall into two categories: Low-income and high-income nations. For each category, 3 countries have been chosen. A seperate dataset will be created for each category of country to allow for effective comparison of trends. All the countries included have been chosen as they exhibit varying degrees of smoking consumption, tobacco control and lobbying from the tobacco industry. It will be shown that lower income countries exhibit a trend towards increased or stable tobacco related deaths.\n",
    "\n",
    "The 6 countries included in this project are presented in the table below:\n",
    "\n",
    "| Low-Income Countries| High-income Countries         |\n",
    "|:---:| :---:|\n",
    "| Indonesia |   Sweden       |\n",
    "|    Myanmar    |   France       |\n",
    "|  India      |   Austria       |\n",
    "\n",
    "Section ___ below investigates the smoking trends in 1.Indonesia, 2.India and 3.Sweden.\n",
    "\n",
    "#### Indonesia\n",
    "\n",
    "The two graphs below display the percentage of smokers in South East Asia and the Indian sub-continent aged 15 and over who smoked in 1. 2007 and 2. 2018 (World Health Organization, Global Health Observatory Data Repository)\n",
    "\n",
    "**&nbsp;&nbsp;&nbsp;&nbsp;&nbsp;&nbsp;&nbsp;&nbsp;&nbsp;&nbsp;&nbsp;&nbsp;&nbsp;&nbsp;&nbsp;&nbsp;&nbsp;&nbsp;&nbsp;&nbsp;&nbsp;&nbsp;&nbsp;&nbsp;&nbsp;&nbsp;&nbsp;&nbsp;&nbsp;&nbsp;&nbsp;&nbsp;&nbsp;&nbsp;&nbsp;&nbsp;&nbsp;&nbsp;&nbsp;&nbsp;&nbsp;&nbsp;&nbsp;&nbsp;&nbsp;&nbsp;&nbsp;&nbsp;&nbsp;&nbsp;&nbsp;&nbsp;&nbsp;&nbsp;&nbsp;&nbsp;&nbsp;&nbsp;&nbsp;&nbsp;&nbsp;&nbsp;&nbsp;&nbsp;&nbsp;&nbsp;&nbsp;&nbsp;&nbsp;&nbsp;&nbsp;&nbsp;&nbsp;&nbsp;&nbsp;&nbsp;&nbsp;&nbsp;&nbsp;&nbsp;&nbsp;&nbsp;&nbsp;&nbsp;&nbsp;&nbsp;&nbsp;&nbsp;&nbsp;&nbsp;&nbsp;&nbsp;2007: % Share of Adult Smoker (15 Years +)** \n",
    "<img src=\"Smoking_se_asia_2007.PNG\n",
    "\" alt=\"Drawing\" style=\"width: 650px;\"/>\n",
    "\n",
    "**&nbsp;&nbsp;&nbsp;&nbsp;&nbsp;&nbsp;&nbsp;&nbsp;&nbsp;&nbsp;&nbsp;&nbsp;&nbsp;&nbsp;&nbsp;&nbsp;&nbsp;&nbsp;&nbsp;&nbsp;&nbsp;&nbsp;&nbsp;&nbsp;&nbsp;&nbsp;&nbsp;&nbsp;&nbsp;&nbsp;&nbsp;&nbsp;&nbsp;&nbsp;&nbsp;&nbsp;&nbsp;&nbsp;&nbsp;&nbsp;&nbsp;&nbsp;&nbsp;&nbsp;&nbsp;&nbsp;&nbsp;&nbsp;&nbsp;&nbsp;&nbsp;&nbsp;&nbsp;&nbsp;&nbsp;&nbsp;&nbsp;&nbsp;&nbsp;&nbsp;&nbsp;&nbsp;&nbsp;&nbsp;&nbsp;&nbsp;&nbsp;&nbsp;&nbsp;&nbsp;&nbsp;&nbsp;&nbsp;&nbsp;&nbsp;&nbsp;&nbsp;&nbsp;&nbsp;&nbsp;&nbsp;&nbsp;&nbsp;&nbsp;&nbsp;&nbsp;&nbsp;&nbsp;&nbsp;&nbsp;&nbsp;&nbsp;2018: % Share of Adult Smoker (15 Years +)**\n",
    "<img src=\"Smoking_se_asia_2018.PNG\n",
    "\" alt=\"Drawing\" style=\"width: 650px;\"/>"
   ]
  },
  {
   "cell_type": "markdown",
   "metadata": {},
   "source": [
    "Firstly, we will look at Indonesia, a low-income countries where tobacco lobby influence is said to be strong and where there has prevailed a high level of tobacco consumption for the past 30 years, for a myriad of reasons. Recent studies on smoking in Indonesia point to factors such as a high degree of reliance on the tobacco crop, in conjunction with strong influence from Big Tobacco impeding restrictions as a means to explain the resiliance of the smoking industry. The alarming nature of the situation was clear back in 1999 when Catherine Reynolds noted specific details of the exponential increase in smoking: \n",
    "\n",
    "> * Male participation estimates range from 50% to 85%\n",
    "> * Since 1970–72, per adult consumption of cigarettes (all forms) has more than doubled, from 500 to 1180 per adult\n",
    "> * By 1985, a Jakarta study reported that 49% of boys and 9% of girls aged 10–14 were daily smokers\n",
    "> * By 1995, a health department survey estimated that 22.9% of urban 10 year olds, and 24.8% of rural 10 year olds smoke.\n",
    " \n",
    "This appears to have been viewed with enthusiasm among some Indonesian members of government, as Reynold's notes that an government report issued in 1991 stated: “Prospects for further market growth are considered good. Consumption levels per head of population are low by international standards. . . . A high proportion of Indonesia’s population is in the younger age groups, meaning that the potential population of smokers will be growing rapidly in the next decade at least.” \n",
    "\n",
    "This bears out in the data presented by Our World in Data on smoking prevalence as a percentage of adults over 15 years of age, that shows a rise for Indonesia from 32.9% in 2000 to 39.4% in 2016 (Global Health Observatory Data Repository, 2016).\n",
    "\n",
    "Keeping this in mind, Indonesia will be utilised as an example of a country where Big Tobacco influence is strong and smoking controls are weak. Myanmar displays a similar trend due to the same issues as Indonesia. As a result, the distributions of random data that will be created for these countries will be from the exponential distribution.\n",
    "\n",
    "#### India\n",
    "\n",
    "In contrast, India is a country that has successfully introduced smoking controls in recent years. In 2003, India overcame challenges in the courts to prevent the introduction of smoke-free public places, restrictions on tobacco advertising and promotion, amongst other measures. Following this, the country joined the WHO Framework Convention on Tobacco Control. Throughout the 2010's, the government incrementally brought in measures such as warning labels on tobacco products, higher tax on products and an increased power for police to sanction those who break advertising laws (WHO, 2015).\n",
    "\n",
    "Despite this, the percentage of deaths attributed to smoking, as a share of overall deaths in the country, rose from 7.76% in 1990 to 9.03% in 2017 (Global Burden of Disease Collaborative Network, 2017). This underpins the reality that control measures have a limit to their potential and are limited in terms of how long it takes for measures to begin to show results. Chhabra et al.(2019) outline that smoking among middle aged adults remains high and among the less educated people and those lvining in rural areas. However, it is noted that the number of young and educated adult smokers has dropped significantly (Chabbra et al., 2019). This can account for the graph of current tobacco use above, whereby, India drops from having 38.5% of the population in 2007 to 27% in 2018. \n",
    "\n",
    "With this understanding of the demographics, we can assume that the distribution of datapoints for India should differ from that of Indonesia. As this project will attempt to recreate realistic distributions using random data, in terms of deaths it is evident that India still suffers from a high death. Therefore, the datapoints of the Death Rates variable should be created in the Uniform Distribution, with some permutations added. For the variables of government controls and tobacco companies profits, however, the random data produced should be separated into two categories: pre 2003 and post 2003. The introduction of the FCTC catalysed the introduction of control measures. The data before should resemble that of Indonesia and Myanmar. But following 2003, it should represent an comparative improvement."
   ]
  },
  {
   "cell_type": "markdown",
   "metadata": {},
   "source": [
    "### Variable 2: Years\n",
    "\n",
    "The chosen range of years to be present in the dataset is from 1980-2020. This thirty year period has been chosen as it provides an adequate window of time both before and after the introduction of the FCTC in 2003 by the WHO. As this framework was instrumental in the measure brought in across Europe and in India and thereby had a measurable effect on the levels of smoking, it is appropriate to study both the 13 year period before it's conception and the 17 years since.\n",
    "\n",
    "Additionally, the period 1980 - 2000 appears to have been a time of exponential growth in tobacco consumption in Indonesia and Myanmar. It is important to highlight the degree of this growth across all variables appropriately, and how the FCTC has not affected the death rate in these two tobacco reliant nations."
   ]
  },
  {
   "cell_type": "markdown",
   "metadata": {},
   "source": [
    "----------------------"
   ]
  },
  {
   "cell_type": "markdown",
   "metadata": {},
   "source": [
    "### Variable 3: Smokers (% of adults)\n",
    "\n",
    "#### Justification for Variable\n",
    "\n",
    "There were various variables that were considered as a key to highlighting the relationship between an increase in smoking and tobacco lobbying against government controls. For example, the number of deaths from smoking is a very important indictor of the consequences of smoking. Similarly, the per capita daily consumption of cigarettes is another variable that may highlight aspects of smoking trends. \n",
    "\n",
    "However, studying the number of annual deaths is complicated by the fact that deaths due to smoking can remain high even where efforts to restrict tobacco sale have been employed. Meanwhile, the comsumption of cigarettes per capita is not a great reflection on an entire population smoking trend, as it includes chain smokers, and the amount of cigarettes a smoker consumes varies from person to person.\n",
    "\n",
    "In terms of highlighting the relationship with degrees of lobbying/restrictions, the percent of smoking is most appropriate for this simulation. "
   ]
  },
  {
   "cell_type": "markdown",
   "metadata": {},
   "source": [
    "#### Low-Income Countries\n",
    "\n",
    "The graph below details smoking as a percentage of adults (over 15) from 2000 to 2016, in relation to the six countries that this simulation concerns itself with:\n",
    "\n",
    "**&nbsp;&nbsp;&nbsp;&nbsp;&nbsp;&nbsp;&nbsp;&nbsp;&nbsp;&nbsp;&nbsp;&nbsp;&nbsp;&nbsp;&nbsp;&nbsp;&nbsp;&nbsp;&nbsp;&nbsp;&nbsp;&nbsp;&nbsp;&nbsp;&nbsp;&nbsp;&nbsp;&nbsp;&nbsp;&nbsp;&nbsp;&nbsp;&nbsp;&nbsp;&nbsp;&nbsp;&nbsp;&nbsp;&nbsp;&nbsp;&nbsp;&nbsp;&nbsp;&nbsp;&nbsp;&nbsp;&nbsp;&nbsp;&nbsp;&nbsp;&nbsp;&nbsp;&nbsp;&nbsp;&nbsp;&nbsp;&nbsp;&nbsp;&nbsp;&nbsp;&nbsp;&nbsp;&nbsp;&nbsp;&nbsp;&nbsp;&nbsp;&nbsp;&nbsp;&nbsp;&nbsp;&nbsp;&nbsp;&nbsp;&nbsp;&nbsp;&nbsp;&nbsp;&nbsp;&nbsp;&nbsp;&nbsp;&nbsp;&nbsp;&nbsp;&nbsp;&nbsp;&nbsp;&nbsp;&nbsp;&nbsp;&nbsp;%Share of Adult Smokers\n",
    "(15 Years +)** \n",
    "<img src=\"smoking_%_2016.PNG\"/>\n",
    "\n",
    "*Image from Our World in Data*\n",
    "\n",
    "##### India\n",
    "\n",
    "As was noted in the discussion of India, the number of deaths from smoking increased in the same period of time that the percentage of population smoking decreased. This was due to the fact that whilst middle-aged people smoked more and were not particularly influenced by government measures, younger people had increasingly chose not to smoke. As can be seen in the graph above, India actually experienced a drop in almost 10% from 2000 to 2016. This is a significant achievement for a low-income country. In creating random data for smoking prevelance in India, the Gamma distribution will be used to simulate this steep decline.\n",
    "\n",
    "##### Indonesia\n",
    "\n",
    "Contrastly, in Indoenesia with little government intervention and a strong degree of influence from the tobacco industry, the country experienced the only increase in smoking prevelance out of the 6 example countries. In 2000, 33% of Indonesians smoked, but by 2016 this figure was at 40%. The comparison between India and Indonesia best exemplifies the relationship between government intervention and decreasing smoking prevelance. "
   ]
  },
  {
   "cell_type": "markdown",
   "metadata": {},
   "source": [
    "#### High-Income Countries\n",
    "\n",
    "##### France\n",
    "\n",
    "Looking at the above graph it is clear that France exhibits only a very slight annual decrease in the period 2000-2016. As seen below, in the period 2013-2016, a consistent decline of 0.1%, for both daily and non-daily smokers (macrotrends.net):\n",
    "* Smoking rate for 2016 was 32.70%, a 0.1% decline from 2015\n",
    "* Smoking rate for 2015 was 32.80%, a 0.1% decline from 2014\n",
    "* Smoking rate for 2014 was 32.90%, a 0.1% decline from 2013\n",
    "* Smoking rate for 2013 was 33.00%, a 0.1% decline from 2012\n",
    "\n",
    "As detailed in Section___, there are various reasons for the near stagnation of smoking prevelance decline in France. As such, the random data simulated for France will be in the Uniform Distribution. This data will then be permuted with Numpy. \n",
    "\n",
    "##### Austria\n",
    "\n",
    "On the contrary, Austria a dramatic decrease from a high almost 50% in 2000, to 30% in 2016. This drop of almost 20% is significant necessitates the creation of random data that reflects a sharp and consistent downwards trend. As such, Numpy's Gamma distribution function will be utilised.\n",
    "\n",
    "##### Sweden\n",
    "\n",
    "Sweden exhibited the same dramatic trend as Austria, however it achieved this much earlier. In 1988 33% of men aged 35 to 44 smoked daily, by 2004, this had dropped to 13%, with the older age groups showing a drop of 10% (Ramstrom and Wilkmans,2014). As such the random data for smoking prevelance for Sweden will also be in the Gamma distribution."
   ]
  },
  {
   "cell_type": "markdown",
   "metadata": {},
   "source": [
    "-----------------"
   ]
  },
  {
   "cell_type": "markdown",
   "metadata": {},
   "source": [
    "### Variable 4: Rating of Government Anti-Smoking Campaigns\n",
    "\n",
    "#### Smoking Deaths and the Relationship with Investment in Anti-smoking Campaigs\n",
    "\n",
    "In the past two decades there has been a considerable effort by many developed nations to decrease smoking. This effort has taken many forms. Many countries have hiked taxes that consumers pay on cigarette purchases, in order to both deter people from smoking and to cover the cost of the healtcare that long-term smokers require. Additionally, restrictions have been put on the sale of cigarettes, such as getting rid of branding that tobacco companies are allowed to use. This follows on from laws introduced in the 1990's and 2000's making it illegal to advertise cigarettes to consumers. Finally, campaigns have been launched across Europe, America and in many developing nations (though not all) to highlight the high correlation between smoking and various forms of cancer. \n",
    "\n",
    "The result is a considerable decrease in smoking related deaths for 100,000 of the populations of these countries where restrictions and campaigns were launched. This success should not be diminished - it highlights that a conscious effort can significantly affect the mindset of peoples and also forms part of a greater awareness worldwide of being more aware of what we put into our bodies.\n",
    "\n",
    "Despite this success however, there is evidence that in some developing nations, where smoking is more prevelant to begin with and where litte has been done in the way of restricting the operations of tobacco combanies in the marketing and sale of product, that smoking related deaths have not decreased, but rather increased. \n",
    "\n",
    "Looking at the sales of the top 5 tobacco companies, or 'Big Tobacco' as they are collectively known as, in some countries these companies have seen an increase in revenues in recent years. Some articles have even highlighted how this is arguably the most profitable time in history for tobacco companies.\n",
    "\n",
    "Having researched this phenomenon online and comparing it against datasets on deaths from smoking accessed on *Our World in Data's*, I have chosen to investigate this example and synthesise random data into particular distributions. These distributions are based on plausible conclusions drawn from reliable resources. As the function of this project is on the methodology used in creating random data, giving it a realistic shape and investigating this simulation, this project is not intended to be empirical evidence."
   ]
  },
  {
   "cell_type": "markdown",
   "metadata": {},
   "source": [
    "--------------------"
   ]
  },
  {
   "cell_type": "markdown",
   "metadata": {},
   "source": [
    "### Variable 5: Influence of Tobacco Lobbying\n",
    "\n",
    "#### Concern Over the Tactics of Tobacco Industry in Low-income Countries\n",
    "\n",
    "In July 2019, a major group responsible for highlighting the consequences of smoking, Ash (or Action on Smoking and Health), opened their report on smoking in developing countries with the following statement:\n",
    "\n",
    "> \"Around 1.1 billion people aged 15 and over smoke, with 80% living in LMICs (low and middle income\n",
    "countries). Tobacco growing and consumption have become concentrated in the developing world where\n",
    "the health, economic, and environmental burden is heaviest and likely to increase.\"\n",
    "\n",
    "Ash's assertment is backed up by data of a surge in Tobacco company profits, studies carried out throghout Africa and Southeast Asia of tactics from 'Big Tobacco' to curtail government efforts to tackle smoking and numerous verified reports of illegal marketing ploys in low-income countries.\n",
    "\n",
    "Since 1984, British American Tobacco (BAT), in association with the International Tobacco Growers’ Association (ITGA), an organisation that was founded to lobby for Big Tobacco, have used varius tactics to pressure low-income countries to abandom restrictions on the growing and sale of Tobacco. In Malawi, a country that has a long history of tobacco crop farming, this lead to a government official to push back against the World Health Organisation on the issue of tobacco control, on the basis that it would negatively impact the economy of Malawi. Indeed, today tobacco sale accounts for 70% of Malawi's foreign earnings (Mamudu et al., 2009). This economic dependency and the tact of the tobacco lobbies, lead the  International Tobacco Growers’ Association (ITGA) to platform tobacco growers representatives against the bodies of the United Nations responsible for tobacco control. This tactic formed part of a larger strategy, drawing on representatives from the industry in low-income countries and eventually lead to the weakening of the focus on health in the UN's tobacco control narrative (Mamudu et al, 2009).\n",
    "\n",
    "In 2017, in an expose on the marketing ploys of Philip Morris in India, Reuters reported that the company responsibe fr the Marlboro brand, breached India's anti-smoking laws. Amongst the many tactics used included the placement of colourful advertisements in kiosks across New Delhi and handing out free cigarettes to young people at parties (Reuters, 2017).\n",
    "\n",
    "Indonesia is a country where tobacco growing and consumption are notably high and where tobacco companies focus on quelling restrictions. In 2017, it was reported that Indonesia consumed 322 million cigarettes. A survey in 2019 found that curiosity was the primary reason for Indonesians to start smoking, with the average age that a smoker had their first cigarette was 16-18 (Hirschmann, December 2020). \n",
    "\n",
    "Overall, there is consensus that tobacco lobbying in low-income countries has had a considerble effect on the introduction of even minor forms of tobacco control. A study in 2016 specifically examined the introduction of health warning labels on cigarette packaging. These labels were compliant with the WHO's Framework Convention on Tobacco Control (FCTC). They concluded that countries where state capacity were low were less likely to introduce the warning labels (Hiilam and Glantz, 2016). This remains as an ever present issue when it comes to tackling cigarette comsumption globally."
   ]
  },
  {
   "cell_type": "markdown",
   "metadata": {},
   "source": [
    "----------------------"
   ]
  },
  {
   "cell_type": "markdown",
   "metadata": {},
   "source": [
    "## Distributions of Variables"
   ]
  },
  {
   "cell_type": "markdown",
   "metadata": {},
   "source": [
    "### Ordered Lists: Variable 1 and Variable 2\n",
    "\n",
    "#### 1. Countries\n",
    "\n",
    "The Countries variable of the dataset is not randomised. It is an ordered list with 70 datapoints for each of the three countries: India, Indonesia and Austria."
   ]
  },
  {
   "cell_type": "markdown",
   "metadata": {},
   "source": [
    "#### 2. Years\n",
    "\n",
    "Similar to the Countries variable, the Years variable is an ordered list of 70 years for each country. Each country contains 70 rows of data for the years ranging from 1950-2019."
   ]
  },
  {
   "cell_type": "markdown",
   "metadata": {},
   "source": [
    "------------------------"
   ]
  },
  {
   "cell_type": "markdown",
   "metadata": {},
   "source": [
    "### The Poisson Distribution: Prevalence and Consumption Variable"
   ]
  },
  {
   "cell_type": "markdown",
   "metadata": {},
   "source": [
    "<img src=\"https://www.researchgate.net/publication/329379093/figure/fig4/AS:699921351049216@1543885662248/Degree-distribution-All-the-networks-show-a-Poisson-distribution-as-corresponds-to.ppm\"/>\n"
   ]
  },
  {
   "cell_type": "markdown",
   "metadata": {},
   "source": [
    "#### Summary of the Distribution\n",
    "\n",
    "In statistics, a Poisson distribution is a statistical distribution that shows how many times an event is likely to occur within a specified period of time. It is used for independent events which occur at a constant rate within a given interval of time (Investopedia, 2019).\n",
    "\n",
    "In business, the Poisson distribution is widely used to analyse operational efficiency in order to understand what steps can be taken for improved business solutions. \n",
    "\n",
    "Example uses of the Poisson ditribution are in Customer Service staffing, where calculating the maximum number of phone calls that need to be dealt with every hour is a key to meeting customer demand. The distribution is also used in retail to determine whether it is financially viable to keep a store open 24 hours a day (CFI, 2019.\n",
    "\n",
    "Below is the Poisson Distribution formula, where the mean (average) number of events within a specified time frame is designated by Lamda, as seen below:\n",
    "\n",
    "<img src =\"https://www.onlinemathlearning.com/image-files/poisson-distribution-formula.png\"/>"
   ]
  },
  {
   "cell_type": "markdown",
   "metadata": {},
   "source": [
    "Below is a graph of four Probability Density Functions featuring the Poisson Distribution, with various values for Lamda:\n",
    "\n",
    "<img src=\"https://www.itl.nist.gov/div898/handbook/eda/section3/gif/poipdf4.gif\" alt=\"Drawing\" style=\"width: 650px;\"/>"
   ]
  },
  {
   "cell_type": "markdown",
   "metadata": {},
   "source": [
    "#### Appropriateness of the Poisson Distribution\n",
    "\n",
    "As this distribtion is used for independent events which occur at a constant rate within a given interval of time, it is an appropriate choice for Variable 3 ('Prevalence', % of poplation that smoke) and Variable 4 ('Consumption', no. of cigarettes consumerd per capita per year).\n",
    "\n",
    "As each row of data in the Smoking Dataset relates to an annual obervation in the range of 1950 to 2019, the events occur at a constant rate. Furthermore, as detailed in Section 2, 'Prevelance' and 'Consumption' as represented in the available data, show enough deviations from other variables to classify them as independent event. \n",
    "\n",
    "Despite this, there are some considerations about where the Poisson Distribution scenarious arent ideal.\n",
    "\n",
    "The following are the conditions under which the Poisson Distribution is appropriate (CFI):\n",
    "\n",
    "* k is the number of times an event happens within a specified time period, and the possible values for k are simple numbers such as 0, 1, 2, 3, 4, 5, etc.\n",
    "\n",
    "\n",
    "* No occurrence of the event being analyzed affects the probability of the event re-occurring (events occur independently).\n",
    "\n",
    "\n",
    "* The event in question cannot occur twice at exactly the same time. There must be some interval of time – even if just half a second – that separates occurrences of the event.\n",
    "\n",
    "\n",
    "* The probability of an event happening within a portion of the total time frame being examined is proportional to the length of that smaller portion of the time frame.\n",
    "\n",
    "* The number of trials (chances for the event to occur) is sufficiently greater than the number of times the event does actually occur (in other words, the Poisson Distribution is only designed to be applied to events that occur relatively rarely).\n",
    "\n",
    "Looking at the last two points here, the very last condition relating the number trials being greater than the actualy events, the randomised data in this dataset does not meet this requirement. As we are applying the distribution to the very common act of smoking and the annual stats relating to it, then the events in question do not happen rarely.\n",
    "\n",
    "With this limiting factor in mind, we will nonetheless use Poisson to simulate 'Prevalence' and 'Consumtion'."
   ]
  },
  {
   "cell_type": "markdown",
   "metadata": {},
   "source": [
    "#### Graphs of 'Prevalence' and 'Consumption' Poisson Distributions\n",
    "\n",
    "The data for 'Prevalence' and 'Consumption' variables, each have two different Poisson distributions based on year. As there was some effect from the introduction of government restriction on cigarettes since the 2003 FCTC, the distribution function has been applied across two distinct ranges of years: 1950-1999 and 2000-2019.\n",
    "\n",
    "Featured below are Seaborn plots for both variables in these two year ranges."
   ]
  },
  {
   "cell_type": "code",
   "execution_count": 80,
   "metadata": {},
   "outputs": [],
   "source": [
    "j = pd.read_csv('smoking.csv')"
   ]
  },
  {
   "cell_type": "code",
   "execution_count": 81,
   "metadata": {},
   "outputs": [],
   "source": [
    "c = pd.read_csv('smoking_graphs.csv')"
   ]
  },
  {
   "cell_type": "code",
   "execution_count": 116,
   "metadata": {},
   "outputs": [],
   "source": [
    "india_graph = j.iloc[0:69, :]\n",
    "indonesia_graph = j.iloc[70:139, :]\n",
    "austria_graph = j.iloc[140:209, :]"
   ]
  },
  {
   "cell_type": "markdown",
   "metadata": {},
   "source": [
    "### Graphing Prevalence Variable: 3 Distplots and 1 Scatterplot"
   ]
  },
  {
   "cell_type": "code",
   "execution_count": 117,
   "metadata": {},
   "outputs": [
    {
     "data": {
      "text/plain": [
       "[Text(0.5, 1.0, 'KDE of Prevalence Variable (% of smokers in pop.)')]"
      ]
     },
     "execution_count": 117,
     "metadata": {},
     "output_type": "execute_result"
    },
    {
     "data": {
      "image/png": "[encoded data removed]",
      "text/plain": [
       "<Figure size 432x288 with 1 Axes>"
      ]
     },
     "metadata": {
      "needs_background": "light"
     },
     "output_type": "display_data"
    }
   ],
   "source": [
    "sns.distplot(india_graph[\"Prevalence(%)\"], bins=20, \n",
    "             kde=True).set(title=\"KDE of India Prevalence (% of smokers in pop.)\")"
   ]
  },
  {
   "cell_type": "code",
   "execution_count": 119,
   "metadata": {},
   "outputs": [
    {
     "data": {
      "text/plain": [
       "[Text(0.5, 1.0, 'KDE of Indonesia Prevalence (% of smokers in pop.)')]"
      ]
     },
     "execution_count": 119,
     "metadata": {},
     "output_type": "execute_result"
    },
    {
     "data": {
      "image/png": "[encoded data removed]",
      "text/plain": [
       "<Figure size 432x288 with 1 Axes>"
      ]
     },
     "metadata": {
      "needs_background": "light"
     },
     "output_type": "display_data"
    }
   ],
   "source": [
    "sns.distplot(indonesia_graph[\"Prevalence(%)\"], bins=20, \n",
    "             kde=True).set(title=\"KDE of Indonesia Prevalence (% of smokers in pop.)\")"
   ]
  },
  {
   "cell_type": "code",
   "execution_count": 120,
   "metadata": {},
   "outputs": [
    {
     "data": {
      "text/plain": [
       "[Text(0.5, 1.0, 'KDE of Austria Prevalence (% of smokers in pop.)')]"
      ]
     },
     "execution_count": 120,
     "metadata": {},
     "output_type": "execute_result"
    },
    {
     "data": {
      "image/png": "[encoded data removed]",
      "text/plain": [
       "<Figure size 432x288 with 1 Axes>"
      ]
     },
     "metadata": {
      "needs_background": "light"
     },
     "output_type": "display_data"
    }
   ],
   "source": [
    "sns.distplot(austria_graph[\"Prevalence(%)\"], bins=20, \n",
    "             kde=True).set(title=\"KDE of Austria Prevalence (% of smokers in pop.)\")"
   ]
  },
  {
   "cell_type": "code",
   "execution_count": 79,
   "metadata": {},
   "outputs": [
    {
     "data": {
      "text/plain": [
       "[Text(0.5, 1.0, '1950-2019: % of Smokers')]"
      ]
     },
     "execution_count": 79,
     "metadata": {},
     "output_type": "execute_result"
    },
    {
     "data": {
      "image/png": "[encoded data removed]",
      "text/plain": [
       "<Figure size 432x288 with 1 Axes>"
      ]
     },
     "metadata": {
      "needs_background": "light"
     },
     "output_type": "display_data"
    }
   ],
   "source": [
    "sns.scatterplot(x=\"Years\", y=\"Prevalence(%)\", data=j, hue=\"Country\").set(title='1950-2019: % of Smokers')"
   ]
  },
  {
   "cell_type": "markdown",
   "metadata": {},
   "source": [
    "### Graphing Consumption Variable: 1 Distplot and 3 Scatterplots"
   ]
  },
  {
   "cell_type": "code",
   "execution_count": 124,
   "metadata": {},
   "outputs": [
    {
     "data": {
      "text/plain": [
       "[Text(0.5, 1.0, 'KDE of India Consumption(no.of cigs.per person per year)')]"
      ]
     },
     "execution_count": 124,
     "metadata": {},
     "output_type": "execute_result"
    },
    {
     "data": {
      "image/png": "[encoded data removed]",
      "text/plain": [
       "<Figure size 432x288 with 1 Axes>"
      ]
     },
     "metadata": {
      "needs_background": "light"
     },
     "output_type": "display_data"
    }
   ],
   "source": [
    "sns.distplot(india_graph[\"Consumption\"],bins=20, \n",
    "             kde=True).set(title=\"KDE of India Consumption(no.of cigs.per person per year)\")"
   ]
  },
  {
   "cell_type": "code",
   "execution_count": 136,
   "metadata": {},
   "outputs": [
    {
     "data": {
      "text/plain": [
       "[Text(0.5, 1.0, 'India Yearly Consumption Cigs(per person)')]"
      ]
     },
     "execution_count": 136,
     "metadata": {},
     "output_type": "execute_result"
    },
    {
     "data": {
      "image/png": "[encoded data removed]",
      "text/plain": [
       "<Figure size 432x288 with 1 Axes>"
      ]
     },
     "metadata": {
      "needs_background": "light"
     },
     "output_type": "display_data"
    }
   ],
   "source": [
    "sns.scatterplot(x=\"Years\", y=\"Consumption\",data=india_graph,\n",
    "                hue=\"Country\").set(title='India: Yearly Consumption Cigs(per person)')"
   ]
  },
  {
   "cell_type": "code",
   "execution_count": 133,
   "metadata": {},
   "outputs": [
    {
     "data": {
      "text/plain": [
       "[Text(0.5, 1.0, 'Indonesia: Yearly Consumption Cigs(per person)')]"
      ]
     },
     "execution_count": 133,
     "metadata": {},
     "output_type": "execute_result"
    },
    {
     "data": {
      "image/png": "[encoded data removed]",
      "text/plain": [
       "<Figure size 432x288 with 1 Axes>"
      ]
     },
     "metadata": {
      "needs_background": "light"
     },
     "output_type": "display_data"
    }
   ],
   "source": [
    "sns.scatterplot(x=\"Years\", y=\"Consumption\",data=indonesia_graph,\n",
    "                hue=\"Country\").set(title='Indonesia: Yearly Consumption Cigs(per person)')"
   ]
  },
  {
   "cell_type": "code",
   "execution_count": 134,
   "metadata": {},
   "outputs": [
    {
     "data": {
      "text/plain": [
       "[Text(0.5, 1.0, 'Austria Yearly Consumption Cigs(per person)')]"
      ]
     },
     "execution_count": 134,
     "metadata": {},
     "output_type": "execute_result"
    },
    {
     "data": {
      "image/png": "[encoded data removed]",
      "text/plain": [
       "<Figure size 432x288 with 1 Axes>"
      ]
     },
     "metadata": {
      "needs_background": "light"
     },
     "output_type": "display_data"
    }
   ],
   "source": [
    "sns.scatterplot(x=\"Years\", y=\"Consumption\",data=austria_graph,\n",
    "                hue=\"Country\").set(title='Austria: Yearly Consumption Cigs(per person)')"
   ]
  },
  {
   "cell_type": "markdown",
   "metadata": {},
   "source": [
    "In terms of 'Consumption', as detailed in Section 2, there were many examples from the years 1980-2018, where the trend for number of cigarettes consumed per capita contradicted the rate of government restrictions. This indicates that the variable is independent. \n",
    "\n",
    "For 'Prevalence', although the trend for government control and reduced tobacco company influence shows to affect the % of population that smoke, the variable still shows evidence of independence. As was noted in Section 2, in relation to India, despite government restriction on smoking, many "
   ]
  },
  {
   "cell_type": "markdown",
   "metadata": {},
   "source": [
    "#### CorporateFInanceInstitute, Poisson Dist: https://corporatefinanceinstitute.com/resources/knowledge/other/poisson-distribution/\n",
    "\n",
    "#### poisson investopedia: https://www.investopedia.com/terms/p/poisson-distribution.asp#:~:text=In%20statistics%2C%20a%20Poisson%20distribution,a%20given%20interval%20of%20time.\n",
    "\n",
    "#### pisson dist formula IMAGE: https://www.onlinemathlearning.com/image-files/poisson-distribution-formula.png\n",
    "\n",
    "#### examples of poisson on graphs IMAGE: https://www.itl.nist.gov/div898/handbook/eda/section3/gif/poipdf4.gif"
   ]
  },
  {
   "cell_type": "markdown",
   "metadata": {},
   "source": [
    "#### Utility of the Poisson Distribution in "
   ]
  },
  {
   "cell_type": "markdown",
   "metadata": {},
   "source": []
  },
  {
   "cell_type": "code",
   "execution_count": null,
   "metadata": {},
   "outputs": [],
   "source": []
  },
  {
   "cell_type": "code",
   "execution_count": 2,
   "metadata": {},
   "outputs": [],
   "source": [
    "import numpy as np\n",
    "import pandas as pd\n",
    "import matplotlib.pyplot as plt\n",
    "from matplotlib.pyplot import hist\n",
    "import seaborn as sns\n",
    "# Set seed of the generator\n",
    "rng = np.random.default_rng(0)"
   ]
  },
  {
   "cell_type": "markdown",
   "metadata": {},
   "source": [
    "### Countries Variables"
   ]
  },
  {
   "cell_type": "code",
   "execution_count": 3,
   "metadata": {},
   "outputs": [],
   "source": [
    "\n",
    "# Create a dataframe with 3 empty column\n",
    "empty_1 = pd.DataFrame({'india' : [np.nan],\n",
    "                              'indo': [np.nan],\n",
    "                         'aust': [np.nan],\n",
    "                       })\n",
    "\n",
    "\n",
    "# Add 70 rows to the 3 empty columns\n",
    "country_1 = empty_1.reindex(empty_1.index.tolist() + list(range(1, 70)))\n",
    "\n",
    "# Replacing empty values with coutnry name \n",
    "country_1[\"india\"].fillna(\"India\", inplace = True) \n",
    "country_1[\"indo\"].fillna(\"Indonesia\", inplace = True) \n",
    "country_1[\"aust\"].fillna(\"Austria\", inplace = True)\n",
    "\n",
    "# Use iloc for all rows to fit column beside each other\n",
    "india = country_1.iloc[:,0:1]\n",
    "\n",
    "indonesia = country_1.iloc[:,1:2]\n",
    "\n",
    "austria = country_1.iloc[:,2:3]\n",
    "\n",
    "# Set the country column heading and use the .column method to fit columns into 1\n",
    "country_column = [\"Country\"]\n",
    "india.columns = country_column\n",
    "indonesia.columns = country_column\n",
    "austria.columns = country_column\n",
    "\n",
    "# Concatenate the dataframe and set ignore_index to true to ensure a continuous index from 0-209\n",
    "Countries = pd.concat([india, indonesia, austria], ignore_index=True) "
   ]
  },
  {
   "cell_type": "markdown",
   "metadata": {},
   "source": [
    "### Years Variable"
   ]
  },
  {
   "cell_type": "code",
   "execution_count": 28,
   "metadata": {},
   "outputs": [],
   "source": [
    "# Create a list of years from 1950-2019 for each country and group it as a dataframe called years \n",
    " \n",
    "Years = pd.DataFrame({\"Years\": [1950, 1951, 1952, 1953, 1954, 1955, 1956, 1957, 1958, 1959, \n",
    "                                1960, 1961, 1962, 1963, 1964, 1965, 1966, 1967, 1968, 1969,\n",
    "                                1970, 1971, 1972, 1973, 1974, 1975, 1976, 1977, 1978, 1979,\n",
    "                                1980, 1981, 1982, 1983, 1984, 1985, 1986, 1987, 1988, 1989,\n",
    "                                1990, 1991, 1992, 1993, 1994, 1995, 1996, 1997, 1998, 1999,\n",
    "                                2000, 2001, 2002, 2003, 2004, 2005, 2006, 2007, 2008, 2009,\n",
    "                                2010, 2011, 2012, 2013, 2014, 2015, 2016, 2017, 2018, 2019,\n",
    "                               \n",
    "                                1950, 1951, 1952, 1953, 1954, 1955, 1956, 1957, 1958, 1959, \n",
    "                                1960, 1961, 1962, 1963, 1964, 1965, 1966, 1967, 1968, 1969,\n",
    "                                1970, 1971, 1972, 1973, 1974, 1975, 1976, 1977, 1978, 1979,\n",
    "                                1980, 1981, 1982, 1983, 1984, 1985, 1986, 1987, 1988, 1989,\n",
    "                                1990, 1991, 1992, 1993, 1994, 1995, 1996, 1997, 1998, 1999,\n",
    "                                2000, 2001, 2002, 2003, 2004, 2005, 2006, 2007, 2008, 2009,\n",
    "                                2010, 2011, 2012, 2013, 2014, 2015, 2016, 2017, 2018, 2019,\n",
    "                                \n",
    "                                1950, 1951, 1952, 1953, 1954, 1955, 1956, 1957, 1958, 1959, \n",
    "                                1960, 1961, 1962, 1963, 1964, 1965, 1966, 1967, 1968, 1969,\n",
    "                                1970, 1971, 1972, 1973, 1974, 1975, 1976, 1977, 1978, 1979,\n",
    "                                1980, 1981, 1982, 1983, 1984, 1985, 1986, 1987, 1988, 1989,\n",
    "                                1990, 1991, 1992, 1993, 1994, 1995, 1996, 1997, 1998, 1999,\n",
    "                                2000, 2001, 2002, 2003, 2004, 2005, 2006, 2007, 2008, 2009,\n",
    "                                2010, 2011, 2012, 2013, 2014, 2015, 2016, 2017, 2018, 2019 ] } )"
   ]
  },
  {
   "cell_type": "markdown",
   "metadata": {},
   "source": [
    "### Prevelance Variable"
   ]
  },
  {
   "cell_type": "markdown",
   "metadata": {},
   "source": [
    "##### India"
   ]
  },
  {
   "cell_type": "code",
   "execution_count": 5,
   "metadata": {},
   "outputs": [],
   "source": [
    "rng = np.random.default_rng(0)\n",
    "\n",
    "# Generate random data for share of adults that smoke (15 years or older) \n",
    "\n",
    "# 1950 - 1999: % of poulation that smoked remained pretty steady\n",
    "# Use np.poisson to create  to create\n",
    "prevalence_india_1 = rng.poisson(34, 50)\n",
    "\n",
    "# 2000 - 2019: Consumption increased\n",
    "prevalence_india_2 = rng.poisson(21, 20)\n",
    "\n",
    "# Round to 1 decimal\n",
    "R_prevalence_india_1 = prevalence_india_1.round(1)\n",
    "R_prevalence_india_2 = prevalence_india_2.round(1)\n",
    "\n",
    "# Transform Arrays into DataFrames\n",
    "DF_prevalence_india_1 = pd.DataFrame(R_prevalence_india_1)\n",
    "DF_prevalence_india_2 = pd.DataFrame(R_prevalence_india_2)"
   ]
  },
  {
   "cell_type": "markdown",
   "metadata": {},
   "source": [
    "##### Indonesia"
   ]
  },
  {
   "cell_type": "code",
   "execution_count": 6,
   "metadata": {},
   "outputs": [],
   "source": [
    "rng = np.random.default_rng(0)\n",
    "\n",
    "# Generate random data for share of adults that smoke (15 years or older) \n",
    "\n",
    "# 1950 - 1999: % of poulation that smoked remained pretty steady\n",
    "# Use np.poisson to create  to create\n",
    "prevalence_indo_1 = rng.poisson(19, 50)\n",
    "\n",
    "# 2000 - 2019: % of population increased\n",
    "prevalence_indo_2 = rng.poisson(36, 20)\n",
    "\n",
    "# Transform Arrays into DataFrames\n",
    "DF_prevalence_indo_1 = pd.DataFrame(prevalence_indo_1)\n",
    "DF_prevalence_indo_2 = pd.DataFrame(prevalence_indo_2)"
   ]
  },
  {
   "cell_type": "markdown",
   "metadata": {},
   "source": [
    "##### Austria"
   ]
  },
  {
   "cell_type": "code",
   "execution_count": 27,
   "metadata": {},
   "outputs": [],
   "source": [
    "rng = np.random.default_rng(0)\n",
    "\n",
    "# Generate random data for share of adults that smoke (15 years or older) \n",
    "\n",
    "# 1950 - 1999: % of poulation that smoked remained pretty steady\n",
    "# Use np.poisson to create  to create\n",
    "prevalence_aust_1 = rng.poisson(45, 50)\n",
    "\n",
    "# 2000 - 2019: % of population decreased\n",
    "prevalence_aust_2 = rng.poisson(17, 20)\n",
    "\n",
    "# Transform Arrays into DataFrames\n",
    "DF_prevalence_aust_1 = pd.DataFrame(prevalence_aust_1)\n",
    "DF_prevalence_aust_2 = pd.DataFrame(prevalence_aust_2)"
   ]
  },
  {
   "cell_type": "markdown",
   "metadata": {},
   "source": [
    "##### Concatenate to fix into 1 column"
   ]
  },
  {
   "cell_type": "code",
   "execution_count": 29,
   "metadata": {},
   "outputs": [],
   "source": [
    "# Use pd.concat to fit the 6 objects for the Prevalence variable into a single column ignore_index set to True \n",
    "Prevalence = pd.concat([DF_prevalence_india_1, DF_prevalence_india_2, DF_prevalence_indo_1, DF_prevalence_indo_2,\n",
    "               DF_prevalence_aust_1, DF_prevalence_aust_2], axis=0, join='inner', ignore_index=True)\n",
    "\n",
    "# Add the title\n",
    "Prevalence.columns = [\"Prevalence(%)\"]"
   ]
  },
  {
   "cell_type": "markdown",
   "metadata": {},
   "source": [
    "#### tolist() method for reordering columns: https://stackoverflow.com/questions/13148429/how-to-change-the-order-of-dataframe-columns\n",
    "\n",
    "#### creating a blank column: https://www.kite.com/python/answers/how-to-create-an-empty-column-in-a-pandas-dataframe-in-python#:~:text=Use%20an%20empty%20string%20to,named%20new_column%20in%20the%20Dataframe%20."
   ]
  },
  {
   "cell_type": "markdown",
   "metadata": {},
   "source": [
    "#### Consumption Variable\n",
    "\n",
    "##### India"
   ]
  },
  {
   "cell_type": "code",
   "execution_count": 9,
   "metadata": {},
   "outputs": [],
   "source": [
    "rng = np.random.default_rng(0)\n",
    "\n",
    "# Generate random data for number of cigarettes consumed per person per year(15 years or older) \n",
    "\n",
    "# 1950 - 1999: Consumption of cigs per person per year remained pretty steady\n",
    "# Use np.poisson to create  to create\n",
    "percapita_india_1 = rng.poisson(1200, 50)\n",
    "\n",
    "# 2000 - 2019: Consumption increased\n",
    "percapita_india_2 = rng.poisson(1300, 20)\n",
    "\n",
    "# Transform Arrays into DataFrames\n",
    "DF_percapita_india_1 = pd.DataFrame(percapita_india_1)\n",
    "DF_percapita_india_2 = pd.DataFrame(percapita_india_2)"
   ]
  },
  {
   "cell_type": "markdown",
   "metadata": {},
   "source": [
    "##### Indonesia"
   ]
  },
  {
   "cell_type": "code",
   "execution_count": 10,
   "metadata": {},
   "outputs": [],
   "source": [
    "rng = np.random.default_rng(0)\n",
    "\n",
    "# Generate random data for number of cigarettes consumed per person per year(15 years or older) \n",
    "\n",
    "# 1950 - 1999: Consumption of cigs remained pretty steady\n",
    "# Use np.poisson to create  to create\n",
    "percapita_indo_1 = rng.poisson(1200, 50)\n",
    "\n",
    "# 2000 - 2019: Consumption increased\n",
    "percapita_indo_2 = rng.poisson(2900, 20)\n",
    "\n",
    "# Transform Arrays into DataFrames\n",
    "DF_percapita_indo_1 = pd.DataFrame(percapita_indo_1)\n",
    "DF_percapita_indo_2 = pd.DataFrame(percapita_indo_2)"
   ]
  },
  {
   "cell_type": "markdown",
   "metadata": {},
   "source": [
    "##### Austria"
   ]
  },
  {
   "cell_type": "code",
   "execution_count": 11,
   "metadata": {},
   "outputs": [],
   "source": [
    "rng = np.random.default_rng(0)\n",
    "\n",
    "# Generate random data for number of cigarettes consumed per year(15 years or older)\n",
    "\n",
    "# 1950 - 1999: Consumption of cigs remained pretty steady\n",
    "# Use np.poisson to create  to create\n",
    "percapita_aust_1 = rng.poisson(2721, 50)\n",
    "\n",
    "# 2000 - 2019: Consumption increased\n",
    "percapita_aust_2 = rng.poisson(1300, 20)\n",
    "\n",
    "# Transform Arrays into DataFrames\n",
    "DF_percapita_aust_1 = pd.DataFrame(percapita_aust_1)\n",
    "DF_percapita_aust_2 = pd.DataFrame(percapita_aust_2)"
   ]
  },
  {
   "cell_type": "markdown",
   "metadata": {},
   "source": [
    "##### Concatenate to fix into 1 column"
   ]
  },
  {
   "cell_type": "code",
   "execution_count": 12,
   "metadata": {},
   "outputs": [],
   "source": [
    "Consumption = pd.concat( [DF_percapita_india_1, DF_percapita_india_2, DF_percapita_indo_1, DF_percapita_indo_2,\n",
    "               DF_percapita_aust_1, DF_percapita_aust_2], axis=0, join='inner', ignore_index=True)\n",
    "\n",
    "Consumption.columns = [\"Consumption\"]                      "
   ]
  },
  {
   "cell_type": "markdown",
   "metadata": {},
   "source": [
    "### Government Control Rating (0.0 - 6.0)"
   ]
  },
  {
   "cell_type": "markdown",
   "metadata": {},
   "source": [
    "##### India"
   ]
  },
  {
   "cell_type": "code",
   "execution_count": 13,
   "metadata": {},
   "outputs": [],
   "source": [
    "rng = np.random.default_rng(0)\n",
    "\n",
    "# Generate random data for Government Control in Uniform Distribution \n",
    "\n",
    "# 1950 - 2002: There was very little government control in India\n",
    "rating_india_1 = rng.uniform(0.6, 1.4, 53)\n",
    "\n",
    "# 2003 - 2019: FCTC adopted, rating increase\n",
    "rating_india_2 = rng.uniform(1.5, 1.4, 17)\n",
    "\n",
    "# Round to 1 decimal\n",
    "R_rating_india_1 = rating_india_1.round(1)\n",
    "R_rating_india_2 = rating_india_2.round(1)\n",
    "\n",
    "# Transform Arrays into DataFrames\n",
    "DF_rating_india_1 = pd.DataFrame(R_rating_india_1)\n",
    "DF_rating_india_2 = pd.DataFrame(R_rating_india_2)"
   ]
  },
  {
   "cell_type": "code",
   "execution_count": 14,
   "metadata": {},
   "outputs": [],
   "source": [
    "rng = np.random.default_rng(0)\n",
    "\n",
    "# Generate random data for Government Control in Uniform Distribution \n",
    "\n",
    "# 1950 - 2002: There was very little government control in Indonesia\n",
    "rating_indo_1 = rng.uniform(0.3, 1.2, 53)\n",
    "\n",
    "# 2003 - 2019: There was little or no increase\n",
    "rating_indo_2 = rng.uniform(1.3, 1.8, 17)\n",
    "\n",
    "# Round to 1 decimal\n",
    "R_rating_indo_1 = rating_indo_1.round(1)\n",
    "R_rating_indo_2 = rating_indo_2.round(1)\n",
    "\n",
    "# Transform Arrays into DataFrames\n",
    "DF_rating_indo_1 = pd.DataFrame(R_rating_indo_1)\n",
    "DF_rating_indo_2 = pd.DataFrame(R_rating_indo_2)"
   ]
  },
  {
   "cell_type": "markdown",
   "metadata": {},
   "source": [
    "#### Austria"
   ]
  },
  {
   "cell_type": "code",
   "execution_count": 15,
   "metadata": {},
   "outputs": [],
   "source": [
    "rng = np.random.default_rng(0)\n",
    "\n",
    "# Generate random data for Government Control in Uniform Distribution \n",
    "\n",
    "# 1950 - 2002: There was limited control\n",
    "rating_aust_1 = rng.uniform(1.3, 2.6, 53)\n",
    "\n",
    "# 2003 - 2019: FCTC adopted, many controls brought in \n",
    "rating_aust_2 = rng.uniform(4.1, 4.9, 17)\n",
    "\n",
    "# Round to 1 decimal\n",
    "R_rating_aust_1 = rating_aust_1.round(1)\n",
    "R_rating_aust_2 = rating_aust_2.round(1)\n",
    "\n",
    "# Transform Arrays into DataFrames\n",
    "DF_rating_aust_1 = pd.DataFrame(R_rating_aust_1)\n",
    "DF_rating_aust_2 = pd.DataFrame(R_rating_aust_2)"
   ]
  },
  {
   "cell_type": "markdown",
   "metadata": {},
   "source": [
    "##### Concatenate to fix into 1 column"
   ]
  },
  {
   "cell_type": "code",
   "execution_count": 16,
   "metadata": {},
   "outputs": [],
   "source": [
    "Rating = pd.concat( [DF_rating_india_1, DF_rating_india_2, DF_rating_indo_1, DF_rating_indo_2,\n",
    "               DF_rating_aust_1, DF_rating_aust_2], axis=0, join='inner', ignore_index=True)\n",
    "\n",
    "Rating.columns = [\"Control Rating\"]"
   ]
  },
  {
   "cell_type": "markdown",
   "metadata": {},
   "source": [
    "#### Concatenate the 5 Variables Together Using concat()"
   ]
  },
  {
   "cell_type": "code",
   "execution_count": 30,
   "metadata": {},
   "outputs": [
    {
     "data": {
      "text/html": [
       "<div>\n",
       "<style scoped>\n",
       "    .dataframe tbody tr th:only-of-type {\n",
       "        vertical-align: middle;\n",
       "    }\n",
       "\n",
       "    .dataframe tbody tr th {\n",
       "        vertical-align: top;\n",
       "    }\n",
       "\n",
       "    .dataframe thead th {\n",
       "        text-align: right;\n",
       "    }\n",
       "</style>\n",
       "<table border=\"1\" class=\"dataframe\">\n",
       "  <thead>\n",
       "    <tr style=\"text-align: right;\">\n",
       "      <th></th>\n",
       "      <th>Years</th>\n",
       "      <th>Country</th>\n",
       "      <th>Prevalence(%)</th>\n",
       "      <th>Consumption</th>\n",
       "      <th>Control Rating</th>\n",
       "    </tr>\n",
       "  </thead>\n",
       "  <tbody>\n",
       "    <tr>\n",
       "      <th>0</th>\n",
       "      <td>1950</td>\n",
       "      <td>India</td>\n",
       "      <td>36</td>\n",
       "      <td>1214</td>\n",
       "      <td>1.1</td>\n",
       "    </tr>\n",
       "    <tr>\n",
       "      <th>1</th>\n",
       "      <td>1951</td>\n",
       "      <td>India</td>\n",
       "      <td>19</td>\n",
       "      <td>1111</td>\n",
       "      <td>0.8</td>\n",
       "    </tr>\n",
       "    <tr>\n",
       "      <th>2</th>\n",
       "      <td>1952</td>\n",
       "      <td>India</td>\n",
       "      <td>36</td>\n",
       "      <td>1211</td>\n",
       "      <td>0.6</td>\n",
       "    </tr>\n",
       "    <tr>\n",
       "      <th>3</th>\n",
       "      <td>1953</td>\n",
       "      <td>India</td>\n",
       "      <td>35</td>\n",
       "      <td>1204</td>\n",
       "      <td>0.6</td>\n",
       "    </tr>\n",
       "    <tr>\n",
       "      <th>4</th>\n",
       "      <td>1954</td>\n",
       "      <td>India</td>\n",
       "      <td>40</td>\n",
       "      <td>1235</td>\n",
       "      <td>1.3</td>\n",
       "    </tr>\n",
       "    <tr>\n",
       "      <th>5</th>\n",
       "      <td>1955</td>\n",
       "      <td>India</td>\n",
       "      <td>41</td>\n",
       "      <td>1242</td>\n",
       "      <td>1.3</td>\n",
       "    </tr>\n",
       "    <tr>\n",
       "      <th>6</th>\n",
       "      <td>1956</td>\n",
       "      <td>India</td>\n",
       "      <td>38</td>\n",
       "      <td>1224</td>\n",
       "      <td>1.1</td>\n",
       "    </tr>\n",
       "    <tr>\n",
       "      <th>7</th>\n",
       "      <td>1957</td>\n",
       "      <td>India</td>\n",
       "      <td>41</td>\n",
       "      <td>1243</td>\n",
       "      <td>1.2</td>\n",
       "    </tr>\n",
       "    <tr>\n",
       "      <th>8</th>\n",
       "      <td>1958</td>\n",
       "      <td>India</td>\n",
       "      <td>30</td>\n",
       "      <td>1179</td>\n",
       "      <td>1.0</td>\n",
       "    </tr>\n",
       "    <tr>\n",
       "      <th>9</th>\n",
       "      <td>1959</td>\n",
       "      <td>India</td>\n",
       "      <td>37</td>\n",
       "      <td>1217</td>\n",
       "      <td>1.3</td>\n",
       "    </tr>\n",
       "    <tr>\n",
       "      <th>10</th>\n",
       "      <td>1960</td>\n",
       "      <td>India</td>\n",
       "      <td>36</td>\n",
       "      <td>1211</td>\n",
       "      <td>1.3</td>\n",
       "    </tr>\n",
       "    <tr>\n",
       "      <th>11</th>\n",
       "      <td>1961</td>\n",
       "      <td>India</td>\n",
       "      <td>37</td>\n",
       "      <td>1219</td>\n",
       "      <td>0.6</td>\n",
       "    </tr>\n",
       "    <tr>\n",
       "      <th>12</th>\n",
       "      <td>1962</td>\n",
       "      <td>India</td>\n",
       "      <td>37</td>\n",
       "      <td>1219</td>\n",
       "      <td>1.3</td>\n",
       "    </tr>\n",
       "    <tr>\n",
       "      <th>13</th>\n",
       "      <td>1963</td>\n",
       "      <td>India</td>\n",
       "      <td>26</td>\n",
       "      <td>1156</td>\n",
       "      <td>0.6</td>\n",
       "    </tr>\n",
       "    <tr>\n",
       "      <th>14</th>\n",
       "      <td>1964</td>\n",
       "      <td>India</td>\n",
       "      <td>34</td>\n",
       "      <td>1202</td>\n",
       "      <td>1.2</td>\n",
       "    </tr>\n",
       "    <tr>\n",
       "      <th>15</th>\n",
       "      <td>1965</td>\n",
       "      <td>India</td>\n",
       "      <td>34</td>\n",
       "      <td>1199</td>\n",
       "      <td>0.7</td>\n",
       "    </tr>\n",
       "    <tr>\n",
       "      <th>16</th>\n",
       "      <td>1966</td>\n",
       "      <td>India</td>\n",
       "      <td>45</td>\n",
       "      <td>1267</td>\n",
       "      <td>1.3</td>\n",
       "    </tr>\n",
       "    <tr>\n",
       "      <th>17</th>\n",
       "      <td>1967</td>\n",
       "      <td>India</td>\n",
       "      <td>35</td>\n",
       "      <td>1207</td>\n",
       "      <td>1.0</td>\n",
       "    </tr>\n",
       "    <tr>\n",
       "      <th>18</th>\n",
       "      <td>1968</td>\n",
       "      <td>India</td>\n",
       "      <td>36</td>\n",
       "      <td>1209</td>\n",
       "      <td>0.8</td>\n",
       "    </tr>\n",
       "    <tr>\n",
       "      <th>19</th>\n",
       "      <td>1969</td>\n",
       "      <td>India</td>\n",
       "      <td>32</td>\n",
       "      <td>1189</td>\n",
       "      <td>0.9</td>\n",
       "    </tr>\n",
       "  </tbody>\n",
       "</table>\n",
       "</div>"
      ],
      "text/plain": [
       "    Years Country  Prevalence(%)  Consumption  Control Rating\n",
       "0    1950   India             36         1214             1.1\n",
       "1    1951   India             19         1111             0.8\n",
       "2    1952   India             36         1211             0.6\n",
       "3    1953   India             35         1204             0.6\n",
       "4    1954   India             40         1235             1.3\n",
       "5    1955   India             41         1242             1.3\n",
       "6    1956   India             38         1224             1.1\n",
       "7    1957   India             41         1243             1.2\n",
       "8    1958   India             30         1179             1.0\n",
       "9    1959   India             37         1217             1.3\n",
       "10   1960   India             36         1211             1.3\n",
       "11   1961   India             37         1219             0.6\n",
       "12   1962   India             37         1219             1.3\n",
       "13   1963   India             26         1156             0.6\n",
       "14   1964   India             34         1202             1.2\n",
       "15   1965   India             34         1199             0.7\n",
       "16   1966   India             45         1267             1.3\n",
       "17   1967   India             35         1207             1.0\n",
       "18   1968   India             36         1209             0.8\n",
       "19   1969   India             32         1189             0.9"
      ]
     },
     "execution_count": 30,
     "metadata": {},
     "output_type": "execute_result"
    }
   ],
   "source": [
    "pd.set_option('display.max_rows', 300)\n",
    "\n",
    "# Concatenate the dataframes along the x-axis, setting the join parameter to 'inner' and axis=1\n",
    "dataset1 = pd.concat([Years, Countries, Prevalence, Consumption, Rating], axis=1, join='inner')\n",
    "\n",
    "# Print the first 20 rows\n",
    "dataset1.head(20)"
   ]
  },
  {
   "cell_type": "code",
   "execution_count": null,
   "metadata": {},
   "outputs": [],
   "source": []
  },
  {
   "cell_type": "code",
   "execution_count": 26,
   "metadata": {},
   "outputs": [
    {
     "data": {
      "text/html": [
       "<div>\n",
       "<style scoped>\n",
       "    .dataframe tbody tr th:only-of-type {\n",
       "        vertical-align: middle;\n",
       "    }\n",
       "\n",
       "    .dataframe tbody tr th {\n",
       "        vertical-align: top;\n",
       "    }\n",
       "\n",
       "    .dataframe thead th {\n",
       "        text-align: right;\n",
       "    }\n",
       "</style>\n",
       "<table border=\"1\" class=\"dataframe\">\n",
       "  <thead>\n",
       "    <tr style=\"text-align: right;\">\n",
       "      <th></th>\n",
       "      <th>Control Rating</th>\n",
       "      <th>Influence</th>\n",
       "    </tr>\n",
       "  </thead>\n",
       "  <tbody>\n",
       "    <tr>\n",
       "      <th>0</th>\n",
       "      <td>1.1</td>\n",
       "      <td>Significant</td>\n",
       "    </tr>\n",
       "    <tr>\n",
       "      <th>1</th>\n",
       "      <td>0.8</td>\n",
       "      <td>Strong</td>\n",
       "    </tr>\n",
       "    <tr>\n",
       "      <th>2</th>\n",
       "      <td>0.6</td>\n",
       "      <td>Strong</td>\n",
       "    </tr>\n",
       "    <tr>\n",
       "      <th>3</th>\n",
       "      <td>0.6</td>\n",
       "      <td>Strong</td>\n",
       "    </tr>\n",
       "    <tr>\n",
       "      <th>4</th>\n",
       "      <td>1.3</td>\n",
       "      <td>Significant</td>\n",
       "    </tr>\n",
       "    <tr>\n",
       "      <th>5</th>\n",
       "      <td>1.3</td>\n",
       "      <td>Significant</td>\n",
       "    </tr>\n",
       "    <tr>\n",
       "      <th>6</th>\n",
       "      <td>1.1</td>\n",
       "      <td>Significant</td>\n",
       "    </tr>\n",
       "    <tr>\n",
       "      <th>7</th>\n",
       "      <td>1.2</td>\n",
       "      <td>Significant</td>\n",
       "    </tr>\n",
       "    <tr>\n",
       "      <th>8</th>\n",
       "      <td>1.0</td>\n",
       "      <td>Significant</td>\n",
       "    </tr>\n",
       "    <tr>\n",
       "      <th>9</th>\n",
       "      <td>1.3</td>\n",
       "      <td>Significant</td>\n",
       "    </tr>\n",
       "  </tbody>\n",
       "</table>\n",
       "</div>"
      ],
      "text/plain": [
       "   Control Rating    Influence\n",
       "0             1.1  Significant\n",
       "1             0.8       Strong\n",
       "2             0.6       Strong\n",
       "3             0.6       Strong\n",
       "4             1.3  Significant\n",
       "5             1.3  Significant\n",
       "6             1.1  Significant\n",
       "7             1.2  Significant\n",
       "8             1.0  Significant\n",
       "9             1.3  Significant"
      ]
     },
     "execution_count": 26,
     "metadata": {},
     "output_type": "execute_result"
    }
   ],
   "source": [
    "# Use the loc() on dataset1 to access the control rating read the value and interpret the value of Control Rating\n",
    "\n",
    "dataset1.loc[(dataset1[\"Control Rating\"] >= 0) & (dataset1[\"Control Rating\"] < 1), \"Influence\"] = \"Strong\"\n",
    "dataset1.loc[(dataset1[\"Control Rating\"] >= 1) & (dataset1[\"Control Rating\"] < 2.5), \"Influence\"] = \"Significant\"\n",
    "dataset1.loc[(dataset1[\"Control Rating\"] >= 2.5) & (dataset1[\"Control Rating\"] < 4.0), \"Influence\"] = \"Moderate\"\n",
    "dataset1.loc[(dataset1[\"Control Rating\"] >= 4.0) & (dataset1[\"Control Rating\"] < 5.0), \"Influence\"] = \"Weak\"\n",
    "\n",
    "# Print the top 10 rows for both columns\n",
    "dataset1[['Control Rating', 'Influence']].head(10)"
   ]
  },
  {
   "cell_type": "code",
   "execution_count": 33,
   "metadata": {},
   "outputs": [],
   "source": [
    "dataset1.to_csv(r'smoking.csv')"
   ]
  },
  {
   "cell_type": "code",
   "execution_count": 45,
   "metadata": {},
   "outputs": [],
   "source": [
    "dataset_for_graphs = pd.concat([Years, Prevalence, Consumption, Rating], axis=1, join='inner')\n",
    "\n",
    "dataset_for_graphs.to_csv(r'smoking_graphs.csv')"
   ]
  },
  {
   "cell_type": "code",
   "execution_count": null,
   "metadata": {},
   "outputs": [],
   "source": []
  },
  {
   "cell_type": "code",
   "execution_count": null,
   "metadata": {},
   "outputs": [],
   "source": []
  }
 ],
 "metadata": {
  "kernelspec": {
   "display_name": "Python 3",
   "language": "python",
   "name": "python3"
  },
  "language_info": {
   "codemirror_mode": {
    "name": "ipython",
    "version": 3
   },
   "file_extension": ".py",
   "mimetype": "text/x-python",
   "name": "python",
   "nbconvert_exporter": "python",
   "pygments_lexer": "ipython3",
   "version": "3.8.3"
  }
 },
 "nbformat": 4,
 "nbformat_minor": 4
}
